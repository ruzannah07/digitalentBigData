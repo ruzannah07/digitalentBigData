{
 "cells": [
  {
   "cell_type": "markdown",
   "metadata": {},
   "source": [
    "# CRAWLING PADA WEBSITE www.antaranews.com"
   ]
  },
  {
   "cell_type": "code",
   "execution_count": 79,
   "metadata": {},
   "outputs": [],
   "source": [
    "from bs4 import BeautifulSoup as bs\n",
    "import urllib"
   ]
  },
  {
   "cell_type": "markdown",
   "metadata": {},
   "source": [
    "#### Mengambil link berita dan membuka dalam bentuk HTML"
   ]
  },
  {
   "cell_type": "code",
   "execution_count": 80,
   "metadata": {},
   "outputs": [
    {
     "name": "stdout",
     "output_type": "stream",
     "text": [
      "b'<!doctype html>\\n<html>\\n<head>\\n\\t<meta charset=\"utf-8\">\\n\\t<title>Berita Terkini - ANTARA News</title>\\n\\t<meta name=\"keywords\" content=\"berita Berita Terkini, berita Indonesia, berita terkini\">\\n\\t<meta name=\"description\" content=\"ANTARA News menyajikan informasi terkini tentang Berita Terkini di Indonesia dan dunia\">\\n\\t<meta name=\"author\" content=\"antaranews.com\">\\n\\t<meta http-equiv=\"X-UA-Compatible\" content=\"IE=edge\">\\n\\t<meta class=\"viewport\" name=\"viewport\" content=\"width=device-width, initial-scale=1.0\">\\t\\t<!-- Favicon -->\\n\\t<link rel=\"shortcut icon\" href=\"https://www.antaranews.com/img/favicon/favicon.ico\" type=\"image/x-icon\" />\\n\\t<link rel=\"apple-touch-icon\" sizes=\"57x57\" href=\"https://www.antaranews.com/img/favicon/apple-icon-57x57.png\">\\n\\t<link rel=\"apple-touch-icon\" sizes=\"60x60\" href=\"https://www.antaranews.com/img/favicon/apple-icon-60x60.png\">\\n\\t<link rel=\"apple-touch-icon\" sizes=\"72x72\" href=\"https://www.antaranews.com/img/favicon/apple-icon-72x72.png\">\\n\\t<link rel=\"apple-touch-icon\" sizes=\"76x76\" href=\"https://www.antaranews.com/img/favicon/apple-icon-76x76.png\">\\n\\t<link rel=\"apple-touch-icon\" sizes=\"114x114\" href=\"https://www.antaranews.com/img/favicon/apple-icon-114x114.png\">\\n\\t<link rel=\"apple-touch-icon\" sizes=\"120x120\" href=\"https://www.antaranews.com/img/favicon/apple-icon-120x120.png\">\\n\\t<link rel=\"apple-touch-icon\" sizes=\"144x144\" href=\"https://www.antaranews.com/img/favicon/apple-icon-144x144.png\">\\n\\t<link rel=\"apple-touch-icon\" sizes=\"152x152\" href=\"https://www.antaranews.com/img/favicon/apple-icon-152x152.png\">\\n\\t<link rel=\"apple-touch-icon\" sizes=\"180x180\" href=\"https://www.antaranews.com/img/favicon/apple-icon-180x180.png\">\\n\\t<link rel=\"icon\" type=\"image/png\" sizes=\"192x192\"  href=\"https://www.antaranews.com/img/favicon/android-icon-192x192.png\">\\n\\t<link rel=\"icon\" type=\"image/png\" sizes=\"32x32\" href=\"https://www.antaranews.com/img/favicon/favicon-32x32.png\">\\n\\t<link rel=\"icon\" type=\"image/png\" sizes=\"96x96\" href=\"https://www.antaranews.com/img/favicon/favicon-96'...\n"
     ]
    }
   ],
   "source": [
    "url = 'https://www.antaranews.com/terkini'\n",
    "html = urllib.request.urlopen(url).read()\n",
    "print(str(html[:2000])+'...')"
   ]
  },
  {
   "cell_type": "markdown",
   "metadata": {},
   "source": [
    "### Inisiasi crawling di halaman pertama\n",
    "Hasil dari inisialisasi ini adalah link berita yang diambil"
   ]
  },
  {
   "cell_type": "code",
   "execution_count": 81,
   "metadata": {},
   "outputs": [
    {
     "data": {
      "text/plain": [
       "['https://www.antaranews.com/berita/761774/kurangi-sampah-plastik-kaka-slank-selalu-bawa-tumbler',\n",
       " 'https://www.antaranews.com/berita/761773/dpr-minta-evaluasi-sistem-pemilihan-kepala-daerah',\n",
       " 'https://www.antaranews.com/berita/761772/act-mulai-bangun-1000-hunian-untuk-korban-gempa',\n",
       " 'https://www.antaranews.com/berita/761771/pemerintah-berencana-perluas-cakupan-ppn-ekspor-jasa-nol-persen',\n",
       " 'https://www.antaranews.com/berita/761770/tkn-jokowi-maruf-menang-survei-tak-perlu-busung-dada',\n",
       " 'https://www.antaranews.com/berita/761769/anak-jalanan-di-kota-ramah-anak',\n",
       " 'https://www.antaranews.com/berita/761768/bnnp-sudah-beri-surat-rekomendasi-old-city',\n",
       " 'https://www.antaranews.com/berita/761767/tkn-jokowi-maruf-amin-ingin-pastikan-kejelasan-aturan-kampanye',\n",
       " 'https://www.antaranews.com/berita/761766/pan-minta-ormas-objektif-sikapi-bendera-tauhid',\n",
       " 'https://www.antaranews.com/foto/761765/pemeriksaan-tersangka-kasus-korupsi']"
      ]
     },
     "execution_count": 81,
     "metadata": {},
     "output_type": "execute_result"
    }
   ],
   "source": [
    "soup = bs(html,'lxml')\n",
    "divs = soup.find_all('article', attrs={'class':'simple-post simple-big clearfix'})\n",
    "\n",
    "news_links = []\n",
    "for div in divs:\n",
    "    news_links.append(div.header.h3.a['href'])\n",
    "news_links"
   ]
  },
  {
   "cell_type": "markdown",
   "metadata": {},
   "source": [
    "# crawling pada 10 halaman pertama"
   ]
  },
  {
   "cell_type": "code",
   "execution_count": 86,
   "metadata": {},
   "outputs": [],
   "source": [
    "for page in range(1,20):\n",
    "    url = 'https://www.antaranews.com/terkini'+str(page)\n",
    "    html = urllib.request.urlopen(url).read()\n",
    "    \n",
    "    soup = bs(html,'lxml')\n",
    "    divs = soup.find_all('article', attrs={'class':'simple-post simple-big clearfix'})\n",
    "    \n",
    "    news_links = []\n",
    "    for div in divs:\n",
    "        news_links.append(div.header.h3.a['href'])\n",
    "        \n",
    "    for news_link in news_links:\n",
    "            sub_url = news_link\n",
    "            sub_html = urllib.request.urlopen(sub_url).read()\n",
    "            sub_soup = bs(sub_html,'lxml')\n",
    "            \n",
    "            title = sub_soup.find_all('header', attrs={'class':'post-header clearfix'})[0].h1.text\n",
    "            article = sub_soup.find_all('div', attrs={'class':'post-content clearfix'})[0].text\n",
    "            \n",
    "            titles.append(title)\n",
    "            articles.append(article)"
   ]
  },
  {
   "cell_type": "code",
   "execution_count": 87,
   "metadata": {},
   "outputs": [
    {
     "data": {
      "text/html": [
       "<div>\n",
       "<style scoped>\n",
       "    .dataframe tbody tr th:only-of-type {\n",
       "        vertical-align: middle;\n",
       "    }\n",
       "\n",
       "    .dataframe tbody tr th {\n",
       "        vertical-align: top;\n",
       "    }\n",
       "\n",
       "    .dataframe thead th {\n",
       "        text-align: right;\n",
       "    }\n",
       "</style>\n",
       "<table border=\"1\" class=\"dataframe\">\n",
       "  <thead>\n",
       "    <tr style=\"text-align: right;\">\n",
       "      <th></th>\n",
       "      <th>title</th>\n",
       "      <th>article</th>\n",
       "    </tr>\n",
       "  </thead>\n",
       "  <tbody>\n",
       "    <tr>\n",
       "      <th>0</th>\n",
       "      <td>Livoli ajang seleksi atlet SEA Games 2019</td>\n",
       "      <td>\\n\\t\\t\\t\\tJakarta (ANTARA News) - Kejuaraan bo...</td>\n",
       "    </tr>\n",
       "    <tr>\n",
       "      <th>1</th>\n",
       "      <td>Wali Kota Bandarlampung apresiasi prestasi ola...</td>\n",
       "      <td>\\n\\t\\t\\t\\tBandarlampung (ANTARA News) - Wali K...</td>\n",
       "    </tr>\n",
       "    <tr>\n",
       "      <th>2</th>\n",
       "      <td>Manajer Everton tidak berani berharap melawan ...</td>\n",
       "      <td>\\n\\t\\t\\t\\tLondon (ANTARA News) - Boss Everton ...</td>\n",
       "    </tr>\n",
       "    <tr>\n",
       "      <th>3</th>\n",
       "      <td>Indonesia Alihkan Fokus ke Jepang</td>\n",
       "      <td>\\n\\t\\t\\t\\tJakarta  (ANTARA News) - Tim nasiona...</td>\n",
       "    </tr>\n",
       "    <tr>\n",
       "      <th>4</th>\n",
       "      <td>Pameran \"Batik 3 Negeri\" berlangsung pada 25-2...</td>\n",
       "      <td>\\n\\t\\t\\t\\tJakarta (ANTARA News) - Batik Tiga N...</td>\n",
       "    </tr>\n",
       "    <tr>\n",
       "      <th>5</th>\n",
       "      <td>Ari Lasso alami gangguan nyeri punggung sejak ...</td>\n",
       "      <td>\\n\\t\\t\\t\\tJakarta (ANTARA News) - Penyanyi Ari...</td>\n",
       "    </tr>\n",
       "    <tr>\n",
       "      <th>6</th>\n",
       "      <td>Hamil di atas 30 tahun tingkatkan risiko diabe...</td>\n",
       "      <td>\\n\\t\\t\\t\\tJakarta (ANTARA News) –  Salah satu ...</td>\n",
       "    </tr>\n",
       "    <tr>\n",
       "      <th>7</th>\n",
       "      <td>Kemenhub sebut kebijakan ganjil-genap alihkan ...</td>\n",
       "      <td>\\nJakarta (ANTARA News) - Hasil riset Badan Pe...</td>\n",
       "    </tr>\n",
       "    <tr>\n",
       "      <th>8</th>\n",
       "      <td>BEI akan ubah mekanisme perdagangan prapenutupan</td>\n",
       "      <td>\\n\\t\\t\\t\\tJakarta (ANTARA News) - Bursa Efek I...</td>\n",
       "    </tr>\n",
       "    <tr>\n",
       "      <th>9</th>\n",
       "      <td>Importer Palestina terima Penghargaan Primadut...</td>\n",
       "      <td>\\n\\t\\t\\t\\tJakarta (ANTARA News) - Perusahaan i...</td>\n",
       "    </tr>\n",
       "    <tr>\n",
       "      <th>10</th>\n",
       "      <td>Livoli ajang seleksi atlet SEA Games 2019</td>\n",
       "      <td>\\n\\t\\t\\t\\tJakarta (ANTARA News) - Kejuaraan bo...</td>\n",
       "    </tr>\n",
       "    <tr>\n",
       "      <th>11</th>\n",
       "      <td>Wali Kota Bandarlampung apresiasi prestasi ola...</td>\n",
       "      <td>\\n\\t\\t\\t\\tBandarlampung (ANTARA News) - Wali K...</td>\n",
       "    </tr>\n",
       "    <tr>\n",
       "      <th>12</th>\n",
       "      <td>Manajer Everton tidak berani berharap melawan ...</td>\n",
       "      <td>\\n\\t\\t\\t\\tLondon (ANTARA News) - Boss Everton ...</td>\n",
       "    </tr>\n",
       "    <tr>\n",
       "      <th>13</th>\n",
       "      <td>Indonesia Alihkan Fokus ke Jepang</td>\n",
       "      <td>\\n\\t\\t\\t\\tJakarta  (ANTARA News) - Tim nasiona...</td>\n",
       "    </tr>\n",
       "    <tr>\n",
       "      <th>14</th>\n",
       "      <td>Pameran \"Batik 3 Negeri\" berlangsung pada 25-2...</td>\n",
       "      <td>\\n\\t\\t\\t\\tJakarta (ANTARA News) - Batik Tiga N...</td>\n",
       "    </tr>\n",
       "    <tr>\n",
       "      <th>15</th>\n",
       "      <td>Ari Lasso alami gangguan nyeri punggung sejak ...</td>\n",
       "      <td>\\n\\t\\t\\t\\tJakarta (ANTARA News) - Penyanyi Ari...</td>\n",
       "    </tr>\n",
       "  </tbody>\n",
       "</table>\n",
       "</div>"
      ],
      "text/plain": [
       "                                                title  \\\n",
       "0           Livoli ajang seleksi atlet SEA Games 2019   \n",
       "1   Wali Kota Bandarlampung apresiasi prestasi ola...   \n",
       "2   Manajer Everton tidak berani berharap melawan ...   \n",
       "3                   Indonesia Alihkan Fokus ke Jepang   \n",
       "4   Pameran \"Batik 3 Negeri\" berlangsung pada 25-2...   \n",
       "5   Ari Lasso alami gangguan nyeri punggung sejak ...   \n",
       "6   Hamil di atas 30 tahun tingkatkan risiko diabe...   \n",
       "7   Kemenhub sebut kebijakan ganjil-genap alihkan ...   \n",
       "8    BEI akan ubah mekanisme perdagangan prapenutupan   \n",
       "9   Importer Palestina terima Penghargaan Primadut...   \n",
       "10          Livoli ajang seleksi atlet SEA Games 2019   \n",
       "11  Wali Kota Bandarlampung apresiasi prestasi ola...   \n",
       "12  Manajer Everton tidak berani berharap melawan ...   \n",
       "13                  Indonesia Alihkan Fokus ke Jepang   \n",
       "14  Pameran \"Batik 3 Negeri\" berlangsung pada 25-2...   \n",
       "15  Ari Lasso alami gangguan nyeri punggung sejak ...   \n",
       "\n",
       "                                              article  \n",
       "0   \\n\\t\\t\\t\\tJakarta (ANTARA News) - Kejuaraan bo...  \n",
       "1   \\n\\t\\t\\t\\tBandarlampung (ANTARA News) - Wali K...  \n",
       "2   \\n\\t\\t\\t\\tLondon (ANTARA News) - Boss Everton ...  \n",
       "3   \\n\\t\\t\\t\\tJakarta  (ANTARA News) - Tim nasiona...  \n",
       "4   \\n\\t\\t\\t\\tJakarta (ANTARA News) - Batik Tiga N...  \n",
       "5   \\n\\t\\t\\t\\tJakarta (ANTARA News) - Penyanyi Ari...  \n",
       "6   \\n\\t\\t\\t\\tJakarta (ANTARA News) –  Salah satu ...  \n",
       "7   \\nJakarta (ANTARA News) - Hasil riset Badan Pe...  \n",
       "8   \\n\\t\\t\\t\\tJakarta (ANTARA News) - Bursa Efek I...  \n",
       "9   \\n\\t\\t\\t\\tJakarta (ANTARA News) - Perusahaan i...  \n",
       "10  \\n\\t\\t\\t\\tJakarta (ANTARA News) - Kejuaraan bo...  \n",
       "11  \\n\\t\\t\\t\\tBandarlampung (ANTARA News) - Wali K...  \n",
       "12  \\n\\t\\t\\t\\tLondon (ANTARA News) - Boss Everton ...  \n",
       "13  \\n\\t\\t\\t\\tJakarta  (ANTARA News) - Tim nasiona...  \n",
       "14  \\n\\t\\t\\t\\tJakarta (ANTARA News) - Batik Tiga N...  \n",
       "15  \\n\\t\\t\\t\\tJakarta (ANTARA News) - Penyanyi Ari...  "
      ]
     },
     "execution_count": 87,
     "metadata": {},
     "output_type": "execute_result"
    }
   ],
   "source": [
    "import pandas as pd\n",
    "table = pd.DataFrame(columns = ['title','article'])\n",
    "\n",
    "table['title'] = titles\n",
    "table['article'] = articles\n",
    "\n",
    "table.head(16)"
   ]
  },
  {
   "cell_type": "code",
   "execution_count": 88,
   "metadata": {},
   "outputs": [],
   "source": [
    "writer = pd.ExcelWriter('AntaraNews.xlsx')\n",
    "table.to_excel(writer,'Sheet1',index=False)\n",
    "writer.save()"
   ]
  }
 ],
 "metadata": {
  "kernelspec": {
   "display_name": "Python 3",
   "language": "python",
   "name": "python3"
  },
  "language_info": {
   "codemirror_mode": {
    "name": "ipython",
    "version": 3
   },
   "file_extension": ".py",
   "mimetype": "text/x-python",
   "name": "python",
   "nbconvert_exporter": "python",
   "pygments_lexer": "ipython3",
   "version": "3.6.6"
  }
 },
 "nbformat": 4,
 "nbformat_minor": 2
}
