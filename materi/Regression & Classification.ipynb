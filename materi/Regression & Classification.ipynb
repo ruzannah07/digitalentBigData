{
 "cells": [
  {
   "cell_type": "code",
   "execution_count": 138,
   "metadata": {},
   "outputs": [],
   "source": [
    "import numpy as np\n",
    "from matplotlib import pyplot as plt\n",
    "from sklearn import datasets\n",
    "plt.rcParams['figure.figsize'] = 5,5\n",
    "import warnings\n",
    "warnings.filterwarnings('ignore')"
   ]
  },
  {
   "cell_type": "code",
   "execution_count": 139,
   "metadata": {},
   "outputs": [],
   "source": [
    "iris = datasets.load_iris()"
   ]
  },
  {
   "cell_type": "code",
   "execution_count": 140,
   "metadata": {},
   "outputs": [],
   "source": [
    "# dataset iris terdiri dari\n",
    "# data, isinya array berupa nilai dari atribut\n",
    "# target, isinya nilai 1/setosa,0/versicolor,2/virginica\n",
    "# descr\n",
    "# feature_names, ['sepal length (cm)','sepal width (cm)','petal length (cm)','petal width (cm)']\n",
    "\n",
    "\n"
   ]
  },
  {
   "cell_type": "code",
   "execution_count": 141,
   "metadata": {},
   "outputs": [],
   "source": [
    "X1 = iris.data[0:50,0:2] # Setosa - sepal length&width \n",
    "X2 = iris.data[50:100,0:2] #Versicolor\n",
    "X3 = iris.data[100:150,0:2] #virginica\n",
    "\n",
    "m1 = np.mean(X1, axis=0)\n",
    "m2 = np.mean(X2, axis=0)\n",
    "m3 = np.mean(X3, axis=0)\n",
    "\n",
    "C1 = np.cov(X1.T)\n",
    "C2 = np.cov(X2.T)\n",
    "C3 = np.cov(X3.T)"
   ]
  },
  {
   "cell_type": "code",
   "execution_count": 142,
   "metadata": {},
   "outputs": [
    {
     "data": {
      "image/png": "[encoded data removed]",
      "text/plain": [
       "<Figure size 360x360 with 1 Axes>"
      ]
     },
     "metadata": {
      "needs_background": "light"
     },
     "output_type": "display_data"
    }
   ],
   "source": [
    "#korelasi antara (sepal length:0 & sepal width:1)\n",
    "plt.scatter(X1[:,0],X1[:,1])\n",
    "plt.show()"
   ]
  },
  {
   "cell_type": "markdown",
   "metadata": {},
   "source": [
    "# LINEAR REGRESSION - 1 variable\n",
    "### REGRESI UNTUK SETOSA.SEPAL WIDTH menggunakan s.length\n",
    "### (y = mX + C)"
   ]
  },
  {
   "cell_type": "code",
   "execution_count": 143,
   "metadata": {},
   "outputs": [
    {
     "data": {
      "text/plain": [
       "array([ 0.7985283 , -0.56943267])"
      ]
     },
     "execution_count": 143,
     "metadata": {},
     "output_type": "execute_result"
    }
   ],
   "source": [
    "#REGRESI UNTUK SEPAL WIDTH\n",
    "\n",
    "#------------------------------------------------------------\n",
    "#MATRIX 1  \n",
    "#DATA REAL INDEPENDEN/SEPAL LENGTH[0] + MATRIX (1)\n",
    "c1 = X1 [:,0] #s.length\n",
    "mones = np.ones(50)\n",
    "X = np.c_[c1,mones]\n",
    "\n",
    "#DATA REAL DEPENDENT/SEPAL WIDTH[1]\n",
    "y = X1[:,1] #s.width\n",
    "\n",
    "#------------------------------------------------------------\n",
    "#MATRIX 2/ MC\n",
    "# mencari nilai B = (XT.X)'.(XT.y)\n",
    "\n",
    "#matmul untuk perkalian\n",
    "#(X Trans . X) = r2\n",
    "# r2 harus kita invers\n",
    "r2 = np.matmul(X.T, X)\n",
    "r2inv = np.linalg.inv(r2)\n",
    "\n",
    "#(X transpose . y) = r1\n",
    "r1 = np.matmul(X.T, y)\n",
    "\n",
    "#bentuk matrix  B = r2inv . r1\n",
    "b = np.matmul(r2inv, r1)\n",
    "b"
   ]
  },
  {
   "cell_type": "code",
   "execution_count": 144,
   "metadata": {},
   "outputs": [],
   "source": [
    "XX = np.arange(4,6,0.05)\n",
    "#melakukan prediksi, matrix 1 yg diubah (XX)\n",
    "#YY = prediksi nilai y terhadap XX\n",
    "#BENTUK MODEL(YY) HASIL PREDIKSI SEPAL WIDTH\n",
    "#BU: y = mX + c\n",
    "#nah yg dipake adl matrix prediksi(XX) matrix kedua(b, nilai m&c)\n",
    "YY = b[0]*XX + b[1]"
   ]
  },
  {
   "cell_type": "code",
   "execution_count": 145,
   "metadata": {},
   "outputs": [
    {
     "data": {
      "image/png": "[encoded data removed]",
      "text/plain": [
       "<Figure size 360x360 with 1 Axes>"
      ]
     },
     "metadata": {
      "needs_background": "light"
     },
     "output_type": "display_data"
    }
   ],
   "source": [
    "#Visualisasi PREDIKSI & REAL\n",
    "plt.scatter(X1[:,0],X1[:,1]) #c1,y\n",
    "plt.scatter(XX,YY)\n",
    "plt.show()"
   ]
  },
  {
   "cell_type": "markdown",
   "metadata": {},
   "source": [
    "# POLYNOMIAL REGRESSION PANGKAT 2 - dengan HANYA 1 variable\n",
    "## matrix 1 adl : var1^(pangkat2) , var1(pangkat1) , 1 (pangkat0)\n",
    "### REGRESI UNTUK SETOSA.s width menggunakan s.length\n",
    "### y = aX^ + bX + C\n",
    "\n",
    "perbedaan hanya terdapat pada matrix1. "
   ]
  },
  {
   "cell_type": "code",
   "execution_count": 146,
   "metadata": {},
   "outputs": [],
   "source": [
    "#------------------------------------------------------------\n",
    "#MATRIX 1\n",
    "c1 = X1[:,0] #Setosa - sepal length\n",
    "sqc1 = np.square(c1)\n",
    "mones = np.ones(50)\n",
    "X = np.c_[sqc1,c1, mones]\n",
    "\n",
    "#DATA REAL DEPENDENT/SEPAL WIDTH[1]\n",
    "y = X1[:,1]\n",
    "\n",
    "#------------------------------------------------------------\n",
    "#MATRIX 2 (a,b,c)\n",
    "r1 = np.matmul(X.T, y)\n",
    "r2 = np.matmul(X.T, X)\n",
    "\n",
    "r2inv = np.linalg.inv(r2)\n",
    "\n",
    "b = np.matmul(r2inv, r1)\n",
    "\n",
    "#------------------------------------------------------------\n",
    "#BUAT MATRIX U/ PREDIKSI (XX)\n",
    "XX = np.arange(4,6, 0.005)\n",
    "YY = b[0]*XX*XX + b[1]*XX + b[2]"
   ]
  },
  {
   "cell_type": "code",
   "execution_count": 147,
   "metadata": {
    "scrolled": true
   },
   "outputs": [
    {
     "data": {
      "image/png": "[encoded data removed]",
      "text/plain": [
       "<Figure size 360x360 with 1 Axes>"
      ]
     },
     "metadata": {
      "needs_background": "light"
     },
     "output_type": "display_data"
    }
   ],
   "source": [
    "#visualisasi PRED & REAL\n",
    "y_pred = plt.scatter(XX,YY)\n",
    "y_real = plt.scatter(c1,y)"
   ]
  },
  {
   "cell_type": "markdown",
   "metadata": {},
   "source": [
    "# POLYNOMIAL REGRESSION PANGKAT 3 - dengan HANYA 1 variable\n",
    "## matrix 1 adl : var1***(pangkat3), var1^(pangkat2) , var1(pangkat1) , 1 (pangkat0)\n",
    "### REGRESI UNTUK SETOSA.s width menggunakan s.length\n",
    "### y = aXXX + bXX + cX + d\n",
    "\n",
    "perbedaan hanya terdapat pada matrix1. "
   ]
  },
  {
   "cell_type": "code",
   "execution_count": 166,
   "metadata": {},
   "outputs": [],
   "source": [
    "#------------------------------------------------------------\n",
    "#MATRIX 1\n",
    "c1 = X1[:,0]\n",
    "sqc1 = c1*c1\n",
    "cbc1 = c1*c1*c1\n",
    "mones = np.ones(50)\n",
    "X = np.c_[cbc1,sqc1,c1,mones]\n",
    "\n",
    "#DATA REAL DEPEND/SEPAL WIDTH[1]\n",
    "#akan digunakan untuk mencari b\n",
    "y = X1[:,1]\n",
    "#------------------------------------------------------------\n",
    "#MATRIX 2 (a,b,c,d) - b = (XT.X)'.(XT.Y)\n",
    "\n",
    "r1 = np.matmul(X.T, y)\n",
    "r2 = np.matmul(X.T, X)\n",
    "r2inv = np.linalg.inv(r2)\n",
    "\n",
    "b = np.matmul(r2inv, r1)\n",
    "#------------------------------------------------------------\n",
    "#BUAT MATRIX U/ PREDIKSI (XX) Y = aXX\n",
    "XX = np.arange(4,6,0.05)\n",
    "YY = b[0]*XX*XX*XX + b[1]*XX*XX + b[2]*XX + b[3]"
   ]
  },
  {
   "cell_type": "code",
   "execution_count": 167,
   "metadata": {},
   "outputs": [
    {
     "data": {
      "image/png": "[encoded data removed]",
      "text/plain": [
       "<Figure size 360x360 with 1 Axes>"
      ]
     },
     "metadata": {
      "needs_background": "light"
     },
     "output_type": "display_data"
    }
   ],
   "source": [
    "#Visualisasi PREDIKSI + REAL\n",
    "y_pred = plt.scatter(XX,YY)\n",
    "y_real = plt.scatter(X1[:, 0], X1[:, 1])"
   ]
  },
  {
   "cell_type": "markdown",
   "metadata": {},
   "source": [
    "# LINEAR REGRESSION - 2 VAR ()\n",
    "    data : sepal length,petal length\n",
    "    yg dicari: sepal width\n",
    "    \n",
    "Bedanya di matrix 1 DAN xx (matrix untuk prediksi, karna dg 2 var/lebih)"
   ]
  },
  {
   "cell_type": "code",
   "execution_count": 175,
   "metadata": {},
   "outputs": [
    {
     "data": {
      "text/plain": [
       "array([ 0.80493004, -0.04863374, -0.53037726])"
      ]
     },
     "execution_count": 175,
     "metadata": {},
     "output_type": "execute_result"
    }
   ],
   "source": [
    "#50 teratas - sentosa\n",
    "X1 = iris.data[:50, 0:3] #sepal length, sepal width, petal length\n",
    "X1 = iris.data[0:50, [0,2,1]] #sepal length, petal length, sepal width\n",
    "\n",
    "#------------------------------------------------------------\n",
    "#MATRIX 1\n",
    "c1 = X1[:,0] #sepal length\n",
    "c2 = X1[:,1] #petal length\n",
    "mones = np.ones(50)\n",
    "X = np.c_[c1,c2,mones]\n",
    "\n",
    "#DATA REAL DEPEND/SEPAL WIDTH[2]\n",
    "#akan digunakan untuk mencari b\n",
    "y = X1[:,2]\n",
    "#------------------------------------------------------------\n",
    "#MATRIX 2 (a,b,c,d) - b = (XT.X)'.(XT.Y)\n",
    "r1 = np.matmul(X.T, y)\n",
    "r2 = np.matmul(X.T, X)\n",
    "r2inv = np.linalg.inv(r2)\n",
    "b = np.matmul(r2inv,r1)\n",
    "b"
   ]
  },
  {
   "cell_type": "markdown",
   "metadata": {},
   "source": [
    "#### matrix untuk prediksi dg >1 var - harus di GRID"
   ]
  },
  {
   "cell_type": "code",
   "execution_count": 176,
   "metadata": {},
   "outputs": [],
   "source": [
    "XX1 = np.arange(4,6,0.05)\n",
    "XX2 = np.arange(4,6,0.05)\n",
    "GX1, GX2 = np.meshgrid(XX1,XX2)"
   ]
  },
  {
   "cell_type": "code",
   "execution_count": 178,
   "metadata": {},
   "outputs": [
    {
     "data": {
      "text/plain": [
       "array([[4.  , 4.05, 4.1 , ..., 5.85, 5.9 , 5.95],\n",
       "       [4.  , 4.05, 4.1 , ..., 5.85, 5.9 , 5.95],\n",
       "       [4.  , 4.05, 4.1 , ..., 5.85, 5.9 , 5.95],\n",
       "       ...,\n",
       "       [4.  , 4.05, 4.1 , ..., 5.85, 5.9 , 5.95],\n",
       "       [4.  , 4.05, 4.1 , ..., 5.85, 5.9 , 5.95],\n",
       "       [4.  , 4.05, 4.1 , ..., 5.85, 5.9 , 5.95]])"
      ]
     },
     "execution_count": 178,
     "metadata": {},
     "output_type": "execute_result"
    }
   ],
   "source": [
    "GX1"
   ]
  },
  {
   "cell_type": "code",
   "execution_count": 179,
   "metadata": {},
   "outputs": [
    {
     "data": {
      "text/plain": [
       "array([[4.  , 4.  , 4.  , ..., 4.  , 4.  , 4.  ],\n",
       "       [4.05, 4.05, 4.05, ..., 4.05, 4.05, 4.05],\n",
       "       [4.1 , 4.1 , 4.1 , ..., 4.1 , 4.1 , 4.1 ],\n",
       "       ...,\n",
       "       [5.85, 5.85, 5.85, ..., 5.85, 5.85, 5.85],\n",
       "       [5.9 , 5.9 , 5.9 , ..., 5.9 , 5.9 , 5.9 ],\n",
       "       [5.95, 5.95, 5.95, ..., 5.95, 5.95, 5.95]])"
      ]
     },
     "execution_count": 179,
     "metadata": {},
     "output_type": "execute_result"
    }
   ],
   "source": [
    "GX2"
   ]
  },
  {
   "cell_type": "code",
   "execution_count": 180,
   "metadata": {},
   "outputs": [
    {
     "data": {
      "text/plain": [
       "array([4.  , 4.05, 4.1 , ..., 5.85, 5.9 , 5.95])"
      ]
     },
     "execution_count": 180,
     "metadata": {},
     "output_type": "execute_result"
    }
   ],
   "source": [
    "GX1.ravel()"
   ]
  },
  {
   "cell_type": "code",
   "execution_count": 181,
   "metadata": {},
   "outputs": [],
   "source": [
    "YY = b[0]*GX1.ravel() + b[1]*GX2.ravel() +b[2]"
   ]
  },
  {
   "cell_type": "code",
   "execution_count": 182,
   "metadata": {},
   "outputs": [
    {
     "data": {
      "image/png": "[encoded data removed]",
      "text/plain": [
       "<Figure size 360x360 with 1 Axes>"
      ]
     },
     "metadata": {
      "needs_background": "light"
     },
     "output_type": "display_data"
    }
   ],
   "source": [
    "#VISUALISASI PREDIKSI 2 VAR \n",
    "from mpl_toolkits.mplot3d import Axes3D\n",
    "fig = plt.figure()\n",
    "ax = fig.add_subplot(111,projection='3d')\n",
    "ax.scatter(GX1.ravel(), GX2.ravel(), YY)\n",
    "ax.scatter(X1[:,0],X1[:,1],X1[:,2])\n",
    "plt.show()"
   ]
  },
  {
   "cell_type": "markdown",
   "metadata": {},
   "source": [
    "# POLYNOMIAL - 2 var\n",
    "    data : sepal length,petal length\n",
    "    yg dicari: sepal width\n",
    "\n",
    "# aX1X1 + bX2X2 + cX1X2 + dX1 + eX2 + f"
   ]
  },
  {
   "cell_type": "code",
   "execution_count": 193,
   "metadata": {},
   "outputs": [],
   "source": [
    "#------------------------------------------------------------\n",
    "#MATRIX 1\n",
    "c1 = X1[:,0]\n",
    "c2 = X1[:,1]\n",
    "sqc1 = c1*c1\n",
    "sqc2 = c2*c2\n",
    "c1c2 = c1*c2\n",
    "mones = np.ones(50)\n",
    "X = np.c_[sqc1,sqc2,c1c2,c1,c2,mones]\n",
    "#DATA REAL DEPEND/SEPAL WIDTH[1]\n",
    "#akan digunakan untuk mencari b\n",
    "y = X1[:,2]\n",
    "#------------------------------------------------------------\n",
    "#MATRIX 2 (a,b,c,d) - b = (XT.X)'.(XT.Y)\n",
    "r1 = np.matmul(X.T, y)\n",
    "r2 = np.matmul(X.T, X)\n",
    "r2inv = np.linalg.inv(r2)\n",
    "b = np.matmul(r2inv, r1)\n",
    "#------------------------------------------------------------\n",
    "#PREDIKSI - menggunakan GX1 & GX2 sebelumnya\n",
    "# matrix untuk prediksi dg >1 var - harus di GRID \n",
    "\n",
    "XX1 = np.arange(0,10,0.05)\n",
    "XX2 = np.arange(0,10,0.05)\n",
    "GX1, GX2 = np.meshgrid(XX1,XX2)\n",
    "\n",
    "YY =  b[0]*GX1.ravel()*GX1.ravel() + b[1]*GX2.ravel()*GX2.ravel() + \\\n",
    "b[2]*GX1.ravel()*GX2.ravel() + b[3]*GX1.ravel() + b[4]*GX2.ravel() + b[5]"
   ]
  },
  {
   "cell_type": "code",
   "execution_count": 194,
   "metadata": {},
   "outputs": [
    {
     "data": {
      "image/png": "[encoded data removed]",
      "text/plain": [
       "<Figure size 360x360 with 1 Axes>"
      ]
     },
     "metadata": {
      "needs_background": "light"
     },
     "output_type": "display_data"
    }
   ],
   "source": [
    "#Visualisasi\n",
    "from mpl_toolkits.mplot3d import Axes3D\n",
    "fig = plt.figure()\n",
    "ax = fig.add_subplot(111,projection='3d')\n",
    "ax.scatter(GX1.ravel(), GX2.ravel(), YY) #fake-pred\n",
    "ax.scatter(X1[:,0],X1[:,1],X1[:,2]) #real\n",
    "plt.show()"
   ]
  },
  {
   "cell_type": "markdown",
   "metadata": {},
   "source": [
    "# LINEAR REGRESSION - library "
   ]
  },
  {
   "cell_type": "code",
   "execution_count": 195,
   "metadata": {},
   "outputs": [],
   "source": [
    "c1 = X1[:,0]\n",
    "c2 = X1[:,1]\n",
    "X = np.c_[c1,c2]"
   ]
  },
  {
   "cell_type": "code",
   "execution_count": 196,
   "metadata": {},
   "outputs": [],
   "source": [
    "from sklearn.linear_model import LinearRegression\n",
    "from sklearn.metrics import mean_squared_error, r2_score"
   ]
  },
  {
   "cell_type": "code",
   "execution_count": 197,
   "metadata": {},
   "outputs": [
    {
     "data": {
      "text/plain": [
       "array([ 0.80493004, -0.04863374])"
      ]
     },
     "execution_count": 197,
     "metadata": {},
     "output_type": "execute_result"
    }
   ],
   "source": [
    "#CREAN AN OBJECT\n",
    "linreg = LinearRegression()\n",
    "y = X1[:,2] #data target\n",
    "\n",
    "#proses learning dr data\n",
    "linreg.fit(X,y) \n",
    "\n",
    "linreg.coef_"
   ]
  },
  {
   "cell_type": "code",
   "execution_count": 198,
   "metadata": {},
   "outputs": [
    {
     "data": {
      "text/plain": [
       "array([5.006, 1.462, 3.428])"
      ]
     },
     "execution_count": 198,
     "metadata": {},
     "output_type": "execute_result"
    }
   ],
   "source": [
    "#X = np.c_[c1,c2]\n",
    "#UNTUK CENTERISASI -----------------------------------------------\n",
    "m1 = np.mean(X1, axis=0) \n",
    "m1"
   ]
  },
  {
   "cell_type": "code",
   "execution_count": 199,
   "metadata": {
    "scrolled": true
   },
   "outputs": [
    {
     "data": {
      "text/plain": [
       "array([5.1, 4.9, 4.7, 4.6, 5. , 5.4, 4.6, 5. , 4.4, 4.9, 5.4, 4.8, 4.8,\n",
       "       4.3, 5.8, 5.7, 5.4, 5.1, 5.7, 5.1, 5.4, 5.1, 4.6, 5.1, 4.8, 5. ,\n",
       "       5. , 5.2, 5.2, 4.7, 4.8, 5.4, 5.2, 5.5, 4.9, 5. , 5.5, 4.9, 4.4,\n",
       "       5.1, 5. , 4.5, 4.4, 5. , 5.1, 4.8, 5.1, 4.6, 5.3, 5. ])"
      ]
     },
     "execution_count": 199,
     "metadata": {},
     "output_type": "execute_result"
    }
   ],
   "source": [
    "X[:,0]"
   ]
  },
  {
   "cell_type": "code",
   "execution_count": 200,
   "metadata": {
    "scrolled": true
   },
   "outputs": [
    {
     "data": {
      "text/plain": [
       "array([ 0.79129275, -0.10463539])"
      ]
     },
     "execution_count": 200,
     "metadata": {},
     "output_type": "execute_result"
    }
   ],
   "source": [
    "c1 = c1 - m1[0]\n",
    "c1 = c1 - m1[1]\n",
    "c1 = X1[:,0] - m1[0]\n",
    "c2 = X2[:,1] - m1[1]\n",
    "X = np.c_[c1,c2]\n",
    "linreg.fit(X,y)\n",
    "linreg.coef_"
   ]
  },
  {
   "cell_type": "markdown",
   "metadata": {},
   "source": [
    "# Ridge regression\n",
    "Digunakan untuk regularisasi, meminimalkan square error dengan menambahkan nilai penalty terhadap alpha.\n",
    "linier ~ argmin (SE + alpha(c1 kuadrat + c2 kuadrat + c3 kuadrat))"
   ]
  },
  {
   "cell_type": "code",
   "execution_count": 209,
   "metadata": {},
   "outputs": [
    {
     "data": {
      "text/plain": [
       "array([0.68587229])"
      ]
     },
     "execution_count": 209,
     "metadata": {},
     "output_type": "execute_result"
    }
   ],
   "source": [
    "from sklearn.linear_model import Ridge\n",
    "ridreg = Ridge(alpha = 1.0)\n",
    "ridreg.fit(X,y)\n",
    "ridreg.coef_"
   ]
  },
  {
   "cell_type": "code",
   "execution_count": 208,
   "metadata": {},
   "outputs": [
    {
     "data": {
      "text/plain": [
       "array([0.60107317])"
      ]
     },
     "execution_count": 208,
     "metadata": {},
     "output_type": "execute_result"
    }
   ],
   "source": [
    "ridreg = Ridge(alpha = 2.0)\n",
    "ridreg.fit(X,y)\n",
    "ridreg.coef_"
   ]
  },
  {
   "cell_type": "code",
   "execution_count": 210,
   "metadata": {},
   "outputs": [
    {
     "data": {
      "text/plain": [
       "array([0.53493541])"
      ]
     },
     "execution_count": 210,
     "metadata": {},
     "output_type": "execute_result"
    }
   ],
   "source": [
    "ridreg = Ridge(alpha = 3.0)\n",
    "ridreg.fit(X,y)\n",
    "ridreg.coef_"
   ]
  },
  {
   "cell_type": "code",
   "execution_count": 211,
   "metadata": {},
   "outputs": [
    {
     "data": {
      "text/plain": [
       "array([0.74929873])"
      ]
     },
     "execution_count": 211,
     "metadata": {},
     "output_type": "execute_result"
    }
   ],
   "source": [
    "ridreg = Ridge(alpha = 0.4)\n",
    "ridreg.fit(X,y)\n",
    "ridreg.coef_"
   ]
  },
  {
   "cell_type": "code",
   "execution_count": 212,
   "metadata": {},
   "outputs": [
    {
     "data": {
      "text/plain": [
       "array([0.18635245])"
      ]
     },
     "execution_count": 212,
     "metadata": {},
     "output_type": "execute_result"
    }
   ],
   "source": [
    "ridreg = Ridge(alpha = 20.0)\n",
    "ridreg.fit(X,y)\n",
    "ridreg.coef_"
   ]
  },
  {
   "cell_type": "code",
   "execution_count": 213,
   "metadata": {},
   "outputs": [
    {
     "data": {
      "text/plain": [
       "array([0.7985283])"
      ]
     },
     "execution_count": 213,
     "metadata": {},
     "output_type": "execute_result"
    }
   ],
   "source": [
    "ridreg = Ridge(alpha = 0.0)\n",
    "ridreg.fit(X,y)\n",
    "ridreg.coef_"
   ]
  },
  {
   "cell_type": "code",
   "execution_count": 214,
   "metadata": {},
   "outputs": [
    {
     "data": {
      "text/plain": [
       "Ridge(alpha=0.0, copy_X=True, fit_intercept=True, max_iter=None,\n",
       "   normalize=False, random_state=None, solver='auto', tol=0.001)"
      ]
     },
     "execution_count": 214,
     "metadata": {},
     "output_type": "execute_result"
    }
   ],
   "source": [
    "XX = np.arange(0,10,0.05)\n",
    "linreg.fit(X,y)\n",
    "ridreg.fit(X,y)"
   ]
  },
  {
   "cell_type": "code",
   "execution_count": 204,
   "metadata": {},
   "outputs": [
    {
     "data": {
      "image/png": "[encoded data removed]",
      "text/plain": [
       "<Figure size 360x360 with 1 Axes>"
      ]
     },
     "metadata": {
      "needs_background": "light"
     },
     "output_type": "display_data"
    }
   ],
   "source": [
    "c1 = X1[:,0]\n",
    "y = X1[:,2]\n",
    "c1 = X1[:,0] - m1[0]\n",
    "y = X1[:,2] - m1[2]\n",
    "X = np.c_[c1]\n",
    "\n",
    "linreg.fit(X,y)\n",
    "ridreg.fit(X,y)\n",
    "\n",
    "XX = np.arange(0,10, 0.05)\n",
    "XX_ = np.c_[XX]\n",
    "\n",
    "YY = linreg.predict(XX_)\n",
    "YY2 = ridreg.predict(XX_)\n",
    "\n",
    "plt.scatter(XX, YY, c='y')\n",
    "plt.scatter(XX, YY2, c = 'b')\n",
    "plt.show()"
   ]
  },
  {
   "cell_type": "markdown",
   "metadata": {},
   "source": [
    "# Category dengan fungsi logistic"
   ]
  },
  {
   "cell_type": "code",
   "execution_count": 215,
   "metadata": {},
   "outputs": [
    {
     "data": {
      "text/plain": [
       "array([5.471, 3.099])"
      ]
     },
     "execution_count": 215,
     "metadata": {},
     "output_type": "execute_result"
    }
   ],
   "source": [
    "iris.target[45:55]\n",
    "from sklearn.linear_model import LogisticRegression\n",
    "X1 = iris.data[0:100, 0:2]\n",
    "m1 = np.mean(X1, axis=0)\n",
    "m1"
   ]
  },
  {
   "cell_type": "code",
   "execution_count": 216,
   "metadata": {},
   "outputs": [],
   "source": [
    "c1 = X1[:,0] - m1[0]\n",
    "c2 = X1[:,1] - m1[1]\n",
    "y = iris.target[0:100]\n",
    "X = np.c_[c1,c2]"
   ]
  },
  {
   "cell_type": "code",
   "execution_count": 217,
   "metadata": {},
   "outputs": [
    {
     "data": {
      "text/plain": [
       "LogisticRegression(C=1.0, class_weight=None, dual=False, fit_intercept=True,\n",
       "          intercept_scaling=1, max_iter=100, multi_class='multinomial',\n",
       "          n_jobs=None, penalty='l2', random_state=0, solver='lbfgs',\n",
       "          tol=0.0001, verbose=0, warm_start=False)"
      ]
     },
     "execution_count": 217,
     "metadata": {},
     "output_type": "execute_result"
    }
   ],
   "source": [
    "logreg = LogisticRegression(random_state=0, solver='lbfgs', multi_class='multinomial')\n",
    "logreg.fit(X, y)"
   ]
  },
  {
   "cell_type": "code",
   "execution_count": 218,
   "metadata": {},
   "outputs": [
    {
     "data": {
      "text/plain": [
       "array([1])"
      ]
     },
     "execution_count": 218,
     "metadata": {},
     "output_type": "execute_result"
    }
   ],
   "source": [
    "logreg.predict([[5.0, 0.2]])"
   ]
  },
  {
   "cell_type": "code",
   "execution_count": 219,
   "metadata": {},
   "outputs": [
    {
     "data": {
      "text/plain": [
       "array([0])"
      ]
     },
     "execution_count": 219,
     "metadata": {},
     "output_type": "execute_result"
    }
   ],
   "source": [
    "logreg.predict([[3.0, 7.0]])"
   ]
  },
  {
   "cell_type": "code",
   "execution_count": 220,
   "metadata": {},
   "outputs": [],
   "source": [
    "XX = np.arange(-2.5,2.5, 0.05)\n",
    "YY = np.arange(-2.5,2.5, 0.05)\n",
    "\n",
    "GX, GY = np.meshgrid(XX, YY)\n",
    "\n",
    "input = np.c_[GX.ravel(), GY.ravel()]\n",
    "output = logreg.predict(input)"
   ]
  },
  {
   "cell_type": "code",
   "execution_count": 221,
   "metadata": {},
   "outputs": [
    {
     "data": {
      "image/png": "[encoded data removed]",
      "text/plain": [
       "<Figure size 360x360 with 1 Axes>"
      ]
     },
     "metadata": {
      "needs_background": "light"
     },
     "output_type": "display_data"
    }
   ],
   "source": [
    "plt.pcolormesh(GX, GY, output.reshape(GX.shape))\n",
    "plt.scatter(c1,c2)\n",
    "plt.show()"
   ]
  }
 ],
 "metadata": {
  "kernelspec": {
   "display_name": "Python 3",
   "language": "python",
   "name": "python3"
  },
  "language_info": {
   "codemirror_mode": {
    "name": "ipython",
    "version": 3
   },
   "file_extension": ".py",
   "mimetype": "text/x-python",
   "name": "python",
   "nbconvert_exporter": "python",
   "pygments_lexer": "ipython3",
   "version": "3.6.6"
  }
 },
 "nbformat": 4,
 "nbformat_minor": 2
}
