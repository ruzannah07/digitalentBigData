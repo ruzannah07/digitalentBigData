{
 "cells": [
  {
   "cell_type": "code",
   "execution_count": 2,
   "metadata": {},
   "outputs": [
    {
     "name": "stdout",
     "output_type": "stream",
     "text": [
      "your BMI: 23.63\n",
      "Normal\n"
     ]
    }
   ],
   "source": [
    "def BodyMassIndex (BB,TB):\n",
    "    tinggiBadan = TB/100\n",
    "    BMI = round(BB/tinggiBadan**2,2)\n",
    "    if BMI < 15: \n",
    "        print(\"your BMI:\",BMI)\n",
    "        print(\"Very severely underweight\")\n",
    "    elif (BMI<=16) & (BMI>=15):\n",
    "        print(\"your BMI:\",BMI)\n",
    "        print(\"severely underweight\")\n",
    "    elif (BMI>=16) & (BMI<=18.5):\n",
    "        print(\"your BMI:\",BMI)\n",
    "        print(\"underweight\")\n",
    "    elif (BMI>=18.5) & (BMI<=25):\n",
    "        print(\"your BMI:\",BMI)\n",
    "        print(\"Normal\")\n",
    "    elif (BMI>=25) & (BMI<=30):\n",
    "        print(\"your BMI:\",BMI)\n",
    "        print(\"Overweight\")\n",
    "    elif (BMI>=30) & (BMI<=35):\n",
    "        print(\"your BMI:\",BMI)\n",
    "        print(\"Moderately obese\")\n",
    "    elif (BMI>=35) & (BMI<=40):\n",
    "        print(\"your BMI:\",BMI)\n",
    "        print(\"severely obese\")\n",
    "    else:\n",
    "        print(\"Very severely obese\")\n",
    "        print(BMI)\n",
    "\n",
    "BodyMassIndex(59,158)"
   ]
  },
  {
   "cell_type": "code",
   "execution_count": null,
   "metadata": {},
   "outputs": [],
   "source": []
  }
 ],
 "metadata": {
  "kernelspec": {
   "display_name": "Python 3",
   "language": "python",
   "name": "python3"
  },
  "language_info": {
   "codemirror_mode": {
    "name": "ipython",
    "version": 3
   },
   "file_extension": ".py",
   "mimetype": "text/x-python",
   "name": "python",
   "nbconvert_exporter": "python",
   "pygments_lexer": "ipython3",
   "version": "3.7.0"
  }
 },
 "nbformat": 4,
 "nbformat_minor": 2
}
