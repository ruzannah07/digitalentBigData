{
 "cells": [
  {
   "cell_type": "markdown",
   "metadata": {},
   "source": [
    "# # TUGAS 2 - LIST NILAI"
   ]
  },
  {
   "cell_type": "code",
   "execution_count": 107,
   "metadata": {},
   "outputs": [
    {
     "name": "stdout",
     "output_type": "stream",
     "text": [
      "[31, 76, 56, 56, 75, 2, 82, 80, 42, 20, 80, 17, 70, 82, 32, 27, 62, 60, 99, 81, 40, 81, 32, 55, 32, 12, 51, 24, 81, 77, 60, 65, 50, 41, 12, 85, 18, 45, 66, 7, 23, 87, 83, 90, 21, 17, 47, 43, 5, 50, 4, 39, 58, 93, 16, 99, 80, 68, 18, 25, 33, 9, 1, 73, 46, 36, 21, 5, 98, 40, 16, 72, 71, 74, 89, 95, 43, 12, 69, 46, 43, 58, 48, 24, 47, 28, 26, 42, 15, 56, 24, 45, 62, 17, 31, 26, 5, 53, 60, 26, 61, 39, 92, 38, 88, 45, 45, 36, 20, 2, 52, 55, 76, 77, 61, 81, 9, 20, 86, 89, 92, 92, 54, 18, 86, 97, 16, 82, 35, 65, 73, 49, 38, 52, 41, 54, 69, 50, 43, 17, 77, 26, 82, 12, 46, 30, 66, 62, 82, 35, 54, 19, 7, 86, 30, 7, 64, 65, 55, 42, 65, 37, 25, 57, 14, 42, 73, 17, 48, 91, 25, 85, 31, 34, 65, 38, 54, 58, 41, 10, 85, 77, 43, 48, 80, 2, 31, 60, 54, 72, 60, 70, 10, 17, 39, 84, 10, 53, 76, 61, 44, 90, 42, 86, 93, 93, 3, 4, 89, 91, 6, 39, 7, 50, 49, 88, 8, 74, 58, 6, 44, 34, 14, 43, 18, 55, 3, 92, 32, 52, 19, 86, 19, 51, 46, 54, 1, 90, 3, 99, 35, 14, 49, 8, 35, 24, 2, 59, 60, 82]\n"
     ]
    }
   ],
   "source": [
    "import random\n",
    "\n",
    "# GENERATE RANDOM\n",
    "nilaiTugas = []\n",
    "for i in range(250):\n",
    "    nilaiTugas.append(random.randrange(1,100,1))\n",
    "\n",
    "print(nilaiTugas)\n",
    "\n",
    "# TAMPILKAN:\n",
    "# ganjil\n",
    "# nilai > 70\n",
    "# standar deviasi\n",
    "# maksimum\n",
    "# minimum\n",
    "# modus"
   ]
  },
  {
   "cell_type": "markdown",
   "metadata": {},
   "source": [
    "# Nilai Ganjil"
   ]
  },
  {
   "cell_type": "code",
   "execution_count": 108,
   "metadata": {},
   "outputs": [
    {
     "name": "stdout",
     "output_type": "stream",
     "text": [
      "[31, 75, 17, 27, 99, 81, 81, 55, 51, 81, 77, 65, 41, 85, 45, 7, 23, 87, 83, 21, 17, 47, 43, 5, 39, 93, 99, 25, 33, 9, 1, 73, 21, 5, 71, 89, 95, 43, 69, 43, 47, 15, 45, 17, 31, 5, 53, 61, 39, 45, 45, 55, 77, 61, 81, 9, 89, 97, 35, 65, 73, 49, 41, 69, 43, 17, 77, 35, 19, 7, 7, 65, 55, 65, 37, 25, 57, 73, 17, 91, 25, 85, 31, 65, 41, 85, 77, 43, 31, 17, 39, 53, 61, 93, 93, 3, 89, 91, 39, 7, 49, 43, 55, 3, 19, 19, 51, 1, 3, 99, 35, 49, 35, 59]\n"
     ]
    }
   ],
   "source": [
    "nilaiGanjil = []\n",
    "for nilai in nilaiTugas:\n",
    "    if nilai%2 != 0:\n",
    "        nilaiGanjil.append(nilai)\n",
    "print(nilaiGanjil)"
   ]
  },
  {
   "cell_type": "markdown",
   "metadata": {},
   "source": [
    "# Nilai  > 70"
   ]
  },
  {
   "cell_type": "code",
   "execution_count": 109,
   "metadata": {},
   "outputs": [
    {
     "name": "stdout",
     "output_type": "stream",
     "text": [
      "[76, 75, 82, 80, 80, 82, 99, 81, 81, 81, 77, 85, 87, 83, 90, 93, 99, 80, 73, 98, 72, 71, 74, 89, 95, 92, 88, 76, 77, 81, 86, 89, 92, 92, 86, 97, 82, 73, 77, 82, 82, 86, 73, 91, 85, 85, 77, 80, 72, 84, 76, 90, 86, 93, 93, 89, 91, 88, 74, 92, 86, 90, 99, 82]\n"
     ]
    }
   ],
   "source": [
    "nilaiMin71 = []\n",
    "for cekNilai in nilaiTugas:\n",
    "    if (cekNilai>70):\n",
    "        nilaiMin71.append(cekNilai)\n",
    "print(nilaiMin71)        "
   ]
  },
  {
   "cell_type": "markdown",
   "metadata": {},
   "source": [
    "# Nilai Max & Min\n",
    "membandingkan tiap angka"
   ]
  },
  {
   "cell_type": "code",
   "execution_count": 110,
   "metadata": {},
   "outputs": [
    {
     "name": "stdout",
     "output_type": "stream",
     "text": [
      "nilai Tertinggi: 99\n",
      "nilai Terendah: 1\n"
     ]
    }
   ],
   "source": [
    "nilaiMaximum = nilaiTugas[0]\n",
    "nilaiMinimum = nilaiTugas[0]\n",
    "for i in nilaiTugas:\n",
    "    if(i>nilaiMaximum):\n",
    "        nilaiMaximum = i\n",
    "    if(i<nilaiMinimum):\n",
    "        nilaiMinimum = i    \n",
    "print('nilai Tertinggi:', nilaiMaximum)\n",
    "print('nilai Terendah:', nilaiMinimum)"
   ]
  },
  {
   "cell_type": "markdown",
   "metadata": {},
   "source": [
    "# Standar Deviasi"
   ]
  },
  {
   "cell_type": "code",
   "execution_count": 111,
   "metadata": {},
   "outputs": [
    {
     "data": {
      "text/plain": [
       "27.34"
      ]
     },
     "execution_count": 111,
     "metadata": {},
     "output_type": "execute_result"
    }
   ],
   "source": [
    "#menggunakan package\n",
    "import statistics\n",
    "from statistics import pstdev\n",
    "round(pstdev(nilaiTugas),2)"
   ]
  },
  {
   "cell_type": "code",
   "execution_count": 112,
   "metadata": {},
   "outputs": [
    {
     "data": {
      "text/plain": [
       "27.34"
      ]
     },
     "execution_count": 112,
     "metadata": {},
     "output_type": "execute_result"
    }
   ],
   "source": [
    "#tanpa package\n",
    "averageNilaiTugas = sum(nilaiTugas)/len(nilaiTugas)\n",
    "sdb =[]\n",
    "\n",
    "for i in nilaiTugas:\n",
    "    sdb.append((i-averageNilaiTugas)**2)\n",
    "sd = sum(sdb)/len(nilaiTugas)\n",
    "\n",
    "import math\n",
    "round(math.sqrt(sd),2)"
   ]
  },
  {
   "cell_type": "markdown",
   "metadata": {},
   "source": [
    "# Modus"
   ]
  },
  {
   "cell_type": "code",
   "execution_count": 113,
   "metadata": {},
   "outputs": [
    {
     "name": "stdout",
     "output_type": "stream",
     "text": [
      "terdapat 5 nilai modus pada data, yaitu: [17, 43, 54, 60, 82] \n",
      "dengan jumlah frekuensi sebanyak 6\n"
     ]
    }
   ],
   "source": [
    "nilaiUnique = set(nilaiTugas)\n",
    "nilaiCount = {}\n",
    "\n",
    "for i in nilaiUnique:\n",
    "    nilaiCount[i] = nilaiTugas.count(i)\n",
    "\n",
    "freqMode = 0\n",
    "for k,v in nilaiCount.items():\n",
    "    if v>freqMode:\n",
    "        freqMode = v\n",
    "        nilMode=k\n",
    "\n",
    "NilaiModus = []\n",
    "for k,v in nilaiCount.items():\n",
    "    if v == freqMode:\n",
    "        NilaiModus.append(k)\n",
    "\n",
    "jmlNilai = len(NilaiModus)\n",
    "freqMode = freqMode\n",
    "if(jmlNilai>1):\n",
    "    print('terdapat',jmlNilai,'nilai modus pada data, yaitu:', NilaiModus,'\\ndengan jumlah frekuensi sebanyak', freqMode )\n",
    "else:\n",
    "    print('Nilai modusnya adalah',NilaiModus,'\\ndengan jumlah frekuensi sebanyak', freqMode)"
   ]
  },
  {
   "cell_type": "markdown",
   "metadata": {},
   "source": [
    "# # TUGAS 3 - WORD COUNT"
   ]
  },
  {
   "cell_type": "code",
   "execution_count": 114,
   "metadata": {},
   "outputs": [
    {
     "name": "stdout",
     "output_type": "stream",
     "text": [
      "Barcelona berhasil merebut posisi puncak klasemen La Liga Spanyol seusai menang 4-2 atas Sevilla pada pertandingan pekan kesembilan di Stadion Camp Nou, Sabtu (20/10/2018) atau Minggu dini hari WIB. Barcelona membuka keunggulan pada menit ke-2 melalui gol yang dicetak oleh Philippe Coutinho. Lionel Messi menggandakan keunggulan Barcelona, 10 menit berselang.  Namun, nahas bagi Barcelona, karena Messi harus ditarik keluar pada menit ke-26 setelah mengalami cedera. Tanpa Messi, skor 2-0 bertahan hingga babak pertama berakhir.\n"
     ]
    }
   ],
   "source": [
    "paragraf = \"Barcelona berhasil merebut posisi puncak klasemen La Liga Spanyol seusai menang 4-2 atas Sevilla pada pertandingan pekan kesembilan di Stadion Camp Nou, Sabtu (20/10/2018) atau Minggu dini hari WIB. Barcelona membuka keunggulan pada menit ke-2 melalui gol yang dicetak oleh Philippe Coutinho. Lionel Messi menggandakan keunggulan Barcelona, 10 menit berselang.  Namun, nahas bagi Barcelona, karena Messi harus ditarik keluar pada menit ke-26 setelah mengalami cedera. Tanpa Messi, skor 2-0 bertahan hingga babak pertama berakhir.\"\n",
    "print(paragraf)"
   ]
  },
  {
   "cell_type": "code",
   "execution_count": 115,
   "metadata": {},
   "outputs": [
    {
     "name": "stdout",
     "output_type": "stream",
     "text": [
      "Barcelona berhasil merebut posisi puncak klasemen La Liga Spanyol seusai menang  atas Sevilla pada pertandingan pekan kesembilan di Stadion Camp Nou  Sabtu  atau Minggu dini hari WIB  Barcelona membuka keunggulan pada menit ke melalui gol yang dicetak oleh Philippe Coutinho  Lionel Messi menggandakan keunggulan Barcelona   menit berselang   Namun  nahas bagi Barcelona  karena Messi harus ditarik keluar pada menit ke setelah mengalami cedera  Tanpa Messi  skor  bertahan hingga babak pertama berakhir \n"
     ]
    }
   ],
   "source": [
    "paragraf = paragraf.replace('.', ' ')\n",
    "paragraf = paragraf.replace(',', ' ')\n",
    "paragraf = paragraf.replace('/', '')\n",
    "paragraf = paragraf.replace('(', '')\n",
    "paragraf = paragraf.replace(')', '')\n",
    "paragraf = paragraf.replace('-', '')\n",
    "paragraf = paragraf.replace('1', '')\n",
    "paragraf = paragraf.replace('2', '')\n",
    "paragraf = paragraf.replace('4', '')\n",
    "paragraf = paragraf.replace('6', '')\n",
    "paragraf = paragraf.replace('8', '')\n",
    "paragraf = paragraf.replace('0', '')\n",
    "print(paragraf)"
   ]
  },
  {
   "cell_type": "code",
   "execution_count": 116,
   "metadata": {},
   "outputs": [
    {
     "name": "stdout",
     "output_type": "stream",
     "text": [
      "['Barcelona', 'berhasil', 'merebut', 'posisi', 'puncak', 'klasemen', 'La', 'Liga', 'Spanyol', 'seusai', 'menang', 'atas', 'Sevilla', 'pada', 'pertandingan', 'pekan', 'kesembilan', 'di', 'Stadion', 'Camp', 'Nou', 'Sabtu', 'atau', 'Minggu', 'dini', 'hari', 'WIB', 'Barcelona', 'membuka', 'keunggulan', 'pada', 'menit', 'ke', 'melalui', 'gol', 'yang', 'dicetak', 'oleh', 'Philippe', 'Coutinho', 'Lionel', 'Messi', 'menggandakan', 'keunggulan', 'Barcelona', 'menit', 'berselang', 'Namun', 'nahas', 'bagi', 'Barcelona', 'karena', 'Messi', 'harus', 'ditarik', 'keluar', 'pada', 'menit', 'ke', 'setelah', 'mengalami', 'cedera', 'Tanpa', 'Messi', 'skor', 'bertahan', 'hingga', 'babak', 'pertama', 'berakhir']\n"
     ]
    }
   ],
   "source": [
    "paragrafList = paragraf.split()\n",
    "paragrafList = [i.strip() for i in paragrafList]\n",
    "print(paragrafList)"
   ]
  },
  {
   "cell_type": "code",
   "execution_count": 117,
   "metadata": {},
   "outputs": [
    {
     "name": "stdout",
     "output_type": "stream",
     "text": [
      "{'Barcelona': 4, 'berhasil': 1, 'merebut': 1, 'posisi': 1, 'puncak': 1, 'klasemen': 1, 'La': 1, 'Liga': 1, 'Spanyol': 1, 'seusai': 1, 'menang': 1, 'atas': 1, 'Sevilla': 1, 'pada': 3, 'pertandingan': 1, 'pekan': 1, 'kesembilan': 1, 'di': 1, 'Stadion': 1, 'Camp': 1, 'Nou': 1, 'Sabtu': 1, 'atau': 1, 'Minggu': 1, 'dini': 1, 'hari': 1, 'WIB': 1, 'membuka': 1, 'keunggulan': 2, 'menit': 3, 'ke': 2, 'melalui': 1, 'gol': 1, 'yang': 1, 'dicetak': 1, 'oleh': 1, 'Philippe': 1, 'Coutinho': 1, 'Lionel': 1, 'Messi': 3, 'menggandakan': 1, 'berselang': 1, 'Namun': 1, 'nahas': 1, 'bagi': 1, 'karena': 1, 'harus': 1, 'ditarik': 1, 'keluar': 1, 'setelah': 1, 'mengalami': 1, 'cedera': 1, 'Tanpa': 1, 'skor': 1, 'bertahan': 1, 'hingga': 1, 'babak': 1, 'pertama': 1, 'berakhir': 1}\n"
     ]
    }
   ],
   "source": [
    "paragrafDict = {}\n",
    "for word in paragrafList:\n",
    "    paragrafDict[word] = paragrafList.count(word)\n",
    "print(paragrafDict)"
   ]
  },
  {
   "cell_type": "code",
   "execution_count": 118,
   "metadata": {},
   "outputs": [
    {
     "name": "stdout",
     "output_type": "stream",
     "text": [
      "Barcelona : 4\n",
      "berhasil : 1\n",
      "merebut : 1\n",
      "posisi : 1\n",
      "puncak : 1\n",
      "klasemen : 1\n",
      "La : 1\n",
      "Liga : 1\n",
      "Spanyol : 1\n",
      "seusai : 1\n",
      "menang : 1\n",
      "atas : 1\n",
      "Sevilla : 1\n",
      "pada : 3\n",
      "pertandingan : 1\n",
      "pekan : 1\n",
      "kesembilan : 1\n",
      "di : 1\n",
      "Stadion : 1\n",
      "Camp : 1\n",
      "Nou : 1\n",
      "Sabtu : 1\n",
      "atau : 1\n",
      "Minggu : 1\n",
      "dini : 1\n",
      "hari : 1\n",
      "WIB : 1\n",
      "membuka : 1\n",
      "keunggulan : 2\n",
      "menit : 3\n",
      "ke : 2\n",
      "melalui : 1\n",
      "gol : 1\n",
      "yang : 1\n",
      "dicetak : 1\n",
      "oleh : 1\n",
      "Philippe : 1\n",
      "Coutinho : 1\n",
      "Lionel : 1\n",
      "Messi : 3\n",
      "menggandakan : 1\n",
      "berselang : 1\n",
      "Namun : 1\n",
      "nahas : 1\n",
      "bagi : 1\n",
      "karena : 1\n",
      "harus : 1\n",
      "ditarik : 1\n",
      "keluar : 1\n",
      "setelah : 1\n",
      "mengalami : 1\n",
      "cedera : 1\n",
      "Tanpa : 1\n",
      "skor : 1\n",
      "bertahan : 1\n",
      "hingga : 1\n",
      "babak : 1\n",
      "pertama : 1\n",
      "berakhir : 1\n"
     ]
    }
   ],
   "source": [
    "for k,v in paragrafDict.items():\n",
    "    print(k,':',v)"
   ]
  }
 ],
 "metadata": {
  "kernelspec": {
   "display_name": "Python 3",
   "language": "python",
   "name": "python3"
  },
  "language_info": {
   "codemirror_mode": {
    "name": "ipython",
    "version": 3
   },
   "file_extension": ".py",
   "mimetype": "text/x-python",
   "name": "python",
   "nbconvert_exporter": "python",
   "pygments_lexer": "ipython3",
   "version": "3.7.0"
  }
 },
 "nbformat": 4,
 "nbformat_minor": 2
}
