{
 "cells": [
  {
   "cell_type": "markdown",
   "metadata": {},
   "source": [
    "# # TUGAS 2 - LIST NILAI"
   ]
  },
  {
   "cell_type": "code",
   "execution_count": 92,
   "metadata": {},
   "outputs": [
    {
     "name": "stdout",
     "output_type": "stream",
     "text": [
      "[14, 13, 14, 73, 54, 80, 67, 58, 68, 15, 4, 2, 64, 84, 48, 30, 18, 50, 45, 96, 34, 27, 60, 25, 1, 49, 40, 37, 36, 69, 9, 71, 7, 81, 85, 7, 8, 82, 83, 67, 1, 43, 81, 77, 16, 90, 3, 94, 10, 7, 6, 20, 41, 84, 54, 66, 40, 83, 82, 97, 42, 56, 25, 56, 56, 80, 64, 70, 95, 67, 68, 76, 34, 63, 79, 17, 73, 85, 12, 59, 81, 91, 36, 16, 89, 45, 37, 57, 25, 60, 7, 98, 40, 50, 82, 26, 96, 12, 67, 17, 68, 23, 92, 30, 43, 84, 98, 47, 59, 78, 64, 26, 10, 27, 95, 53, 70, 40, 55, 44, 8, 9, 72, 38, 42, 68, 72, 45, 56, 66, 39, 74, 9, 94, 36, 84, 87, 96, 77, 37, 45, 82, 74, 12, 57, 2, 87, 6, 6, 58, 86, 78, 41, 16, 91, 96, 56, 80, 48, 85, 76, 16, 52, 78, 86, 82, 80, 20, 91, 83, 23, 70, 30, 7, 96, 85, 8, 93, 92, 21, 31, 11, 92, 72, 16, 23, 75, 23, 6, 97, 82, 95, 2, 18, 55, 9, 71, 79, 13, 61, 85, 58, 91, 85, 47, 75, 12, 79, 97, 57, 84, 1, 77, 88, 32, 71, 20, 81, 14, 67, 13, 62, 56, 40, 35, 35, 71, 23, 14, 24, 89, 12, 12, 59, 85, 54, 39, 60, 29, 20, 79, 54, 26, 53, 50, 77, 91, 99, 81, 39]\n"
     ]
    }
   ],
   "source": [
    "import random\n",
    "\n",
    "# GENERATE RANDOM\n",
    "nilaiTugas = []\n",
    "for i in range(250):\n",
    "    nilaiTugas.append(random.randrange(1,100,1))\n",
    "\n",
    "print(nilaiTugas)\n",
    "\n",
    "# TAMPILKAN:\n",
    "# ganjil\n",
    "# nilai > 70\n",
    "# standar deviasi\n",
    "# maksimum\n",
    "# minimum\n",
    "# modus"
   ]
  },
  {
   "cell_type": "markdown",
   "metadata": {},
   "source": [
    "# Nilai Ganjil"
   ]
  },
  {
   "cell_type": "code",
   "execution_count": 86,
   "metadata": {},
   "outputs": [
    {
     "name": "stdout",
     "output_type": "stream",
     "text": [
      "[99, 49, 73, 25, 43, 17, 47, 65, 77, 5, 31, 27, 77, 3, 23, 77, 23, 87, 11, 5, 21, 27, 67, 45, 47, 79, 53, 79, 27, 37, 7, 39, 95, 85, 19, 89, 63, 35, 3, 93, 67, 59, 65, 77, 7, 39, 61, 71, 29, 79, 79, 33, 11, 93, 11, 53, 59, 97, 47, 65, 69, 13, 99, 61, 23, 35, 41, 75, 63, 71, 55, 41, 57, 87, 95, 7, 67, 13, 5, 51, 53, 65, 43, 73, 63, 47, 91, 9, 87, 61, 45, 49, 27, 93, 67, 3, 9, 87, 49, 39, 95, 37, 75, 73, 57, 5, 43, 31, 41, 45, 59, 23, 87, 35, 41, 33, 23, 13, 9, 79, 3, 91, 93, 53, 49, 3, 51]\n"
     ]
    }
   ],
   "source": [
    "nilaiGanjil = []\n",
    "for nilai in nilaiTugas:\n",
    "    if nilai%2 != 0:\n",
    "        nilaiGanjil.append(nilai)\n",
    "print(nilaiGanjil)"
   ]
  },
  {
   "cell_type": "markdown",
   "metadata": {},
   "source": [
    "# Nilai  > 70"
   ]
  },
  {
   "cell_type": "code",
   "execution_count": 87,
   "metadata": {},
   "outputs": [
    {
     "name": "stdout",
     "output_type": "stream",
     "text": [
      "[74, 99, 73, 90, 84, 77, 77, 82, 96, 77, 94, 88, 87, 88, 96, 79, 79, 95, 85, 88, 89, 98, 82, 93, 77, 71, 79, 79, 94, 78, 93, 76, 97, 99, 82, 72, 84, 90, 75, 71, 78, 87, 95, 84, 90, 73, 76, 91, 87, 92, 80, 90, 93, 87, 95, 98, 75, 73, 86, 87, 80, 79, 91, 93]\n"
     ]
    }
   ],
   "source": [
    "nilaiMin71 = []\n",
    "for cekNilai in nilaiTugas:\n",
    "    if (cekNilai>70):\n",
    "        nilaiMin71.append(cekNilai)\n",
    "print(nilaiMin71)        "
   ]
  },
  {
   "cell_type": "markdown",
   "metadata": {},
   "source": [
    "# Nilai Max & Min\n",
    "membandingkan tiap angka"
   ]
  },
  {
   "cell_type": "code",
   "execution_count": 88,
   "metadata": {},
   "outputs": [
    {
     "name": "stdout",
     "output_type": "stream",
     "text": [
      "nilai Tertinggi: 99\n",
      "nilai Terendah: 2\n"
     ]
    }
   ],
   "source": [
    "nilaiMaximum = nilaiTugas[0]\n",
    "nilaiMinimum = nilaiTugas[0]\n",
    "for i in nilaiTugas:\n",
    "    if(i>nilaiMaximum):\n",
    "        nilaiMaximum = i\n",
    "    if(i<nilaiMinimum):\n",
    "        nilaiMinimum = i    \n",
    "print('nilai Tertinggi:', nilaiMaximum)\n",
    "print('nilai Terendah:', nilaiMinimum)"
   ]
  },
  {
   "cell_type": "markdown",
   "metadata": {},
   "source": [
    "# Standar Deviasi"
   ]
  },
  {
   "cell_type": "code",
   "execution_count": 89,
   "metadata": {},
   "outputs": [
    {
     "data": {
      "text/plain": [
       "27.52"
      ]
     },
     "execution_count": 89,
     "metadata": {},
     "output_type": "execute_result"
    }
   ],
   "source": [
    "#menggunakan package\n",
    "import statistics\n",
    "from statistics import pstdev\n",
    "round(pstdev(nilaiTugas),2)"
   ]
  },
  {
   "cell_type": "code",
   "execution_count": 90,
   "metadata": {},
   "outputs": [
    {
     "data": {
      "text/plain": [
       "27.52"
      ]
     },
     "execution_count": 90,
     "metadata": {},
     "output_type": "execute_result"
    }
   ],
   "source": [
    "#tanpa package\n",
    "averageNilaiTugas = sum(nilaiTugas)/len(nilaiTugas)\n",
    "sdb =[]\n",
    "\n",
    "for i in nilaiTugas:\n",
    "    sdb.append((i-averageNilaiTugas)**2)\n",
    "sd = sum(sdb)/len(nilaiTugas)\n",
    "\n",
    "import math\n",
    "round(math.sqrt(sd),2)"
   ]
  },
  {
   "cell_type": "markdown",
   "metadata": {},
   "source": [
    "# Modus"
   ]
  },
  {
   "cell_type": "code",
   "execution_count": 91,
   "metadata": {},
   "outputs": [
    {
     "name": "stdout",
     "output_type": "stream",
     "text": [
      "terdapat 2 nilai modus pada data, yaitu: [46, 50] \n",
      "dengan jumlah frekuensi sebanyak 7\n"
     ]
    }
   ],
   "source": [
    "nilaiUnique = set(nilaiTugas)\n",
    "nilaiCount = {}\n",
    "\n",
    "for i in nilaiUnique:\n",
    "    nilaiCount[i] = nilaiTugas.count(i)\n",
    "\n",
    "freqMode = 0\n",
    "for k,v in nilaiCount.items():\n",
    "    if v>freqMode:\n",
    "        freqMode = v\n",
    "        nilMode=k\n",
    "\n",
    "NilaiModus = []\n",
    "for k,v in nilaiCount.items():\n",
    "    if v == freqMode:\n",
    "        NilaiModus.append(k)\n",
    "\n",
    "jmlNilai = len(NilaiModus)\n",
    "freqMode = freqMode\n",
    "if(jmlNilai>1):\n",
    "    print('terdapat',jmlNilai,'nilai modus pada data, yaitu:', NilaiModus,'\\ndengan jumlah frekuensi sebanyak', freqMode )\n",
    "else:\n",
    "    print('Nilai modusnya adalah',NilaiModus,'\\ndengan jumlah frekuensi sebanyak', freqMode)"
   ]
  },
  {
   "cell_type": "markdown",
   "metadata": {},
   "source": [
    "# # TUGAS 3 - WORD COUNT"
   ]
  },
  {
   "cell_type": "code",
   "execution_count": 96,
   "metadata": {},
   "outputs": [
    {
     "name": "stdout",
     "output_type": "stream",
     "text": [
      "Barcelona berhasil merebut posisi puncak klasemen La Liga Spanyol seusai menang 4-2 atas Sevilla pada pertandingan pekan kesembilan di Stadion Camp Nou, Sabtu (20/10/2018) atau Minggu dini hari WIB. Barcelona membuka keunggulan pada menit ke-2 melalui gol yang dicetak oleh Philippe Coutinho. Lionel Messi menggandakan keunggulan Barcelona, 10 menit berselang.  Namun, nahas bagi Barcelona, karena Messi harus ditarik keluar pada menit ke-26 setelah mengalami cedera. Tanpa Messi, skor 2-0 bertahan hingga babak pertama berakhir.\n"
     ]
    }
   ],
   "source": [
    "paragraf = \"Barcelona berhasil merebut posisi puncak klasemen La Liga Spanyol seusai menang 4-2 atas Sevilla pada pertandingan pekan kesembilan di Stadion Camp Nou, Sabtu (20/10/2018) atau Minggu dini hari WIB. Barcelona membuka keunggulan pada menit ke-2 melalui gol yang dicetak oleh Philippe Coutinho. Lionel Messi menggandakan keunggulan Barcelona, 10 menit berselang.  Namun, nahas bagi Barcelona, karena Messi harus ditarik keluar pada menit ke-26 setelah mengalami cedera. Tanpa Messi, skor 2-0 bertahan hingga babak pertama berakhir.\"\n",
    "print(paragraf)"
   ]
  },
  {
   "cell_type": "code",
   "execution_count": 97,
   "metadata": {},
   "outputs": [
    {
     "name": "stdout",
     "output_type": "stream",
     "text": [
      "Barcelona berhasil merebut posisi puncak klasemen La Liga Spanyol seusai menang  atas Sevilla pada pertandingan pekan kesembilan di Stadion Camp Nou  Sabtu  atau Minggu dini hari WIB  Barcelona membuka keunggulan pada menit ke melalui gol yang dicetak oleh Philippe Coutinho  Lionel Messi menggandakan keunggulan Barcelona   menit berselang   Namun  nahas bagi Barcelona  karena Messi harus ditarik keluar pada menit ke setelah mengalami cedera  Tanpa Messi  skor  bertahan hingga babak pertama berakhir \n"
     ]
    }
   ],
   "source": [
    "paragraf = paragraf.replace('.', ' ')\n",
    "paragraf = paragraf.replace(',', ' ')\n",
    "paragraf = paragraf.replace('/', '')\n",
    "paragraf = paragraf.replace('(', '')\n",
    "paragraf = paragraf.replace(')', '')\n",
    "paragraf = paragraf.replace('-', '')\n",
    "paragraf = paragraf.replace('1', '')\n",
    "paragraf = paragraf.replace('2', '')\n",
    "paragraf = paragraf.replace('4', '')\n",
    "paragraf = paragraf.replace('6', '')\n",
    "paragraf = paragraf.replace('8', '')\n",
    "paragraf = paragraf.replace('0', '')\n",
    "print(paragraf)"
   ]
  },
  {
   "cell_type": "code",
   "execution_count": 99,
   "metadata": {},
   "outputs": [
    {
     "name": "stdout",
     "output_type": "stream",
     "text": [
      "['Barcelona', 'berhasil', 'merebut', 'posisi', 'puncak', 'klasemen', 'La', 'Liga', 'Spanyol', 'seusai', 'menang', 'atas', 'Sevilla', 'pada', 'pertandingan', 'pekan', 'kesembilan', 'di', 'Stadion', 'Camp', 'Nou', 'Sabtu', 'atau', 'Minggu', 'dini', 'hari', 'WIB', 'Barcelona', 'membuka', 'keunggulan', 'pada', 'menit', 'ke', 'melalui', 'gol', 'yang', 'dicetak', 'oleh', 'Philippe', 'Coutinho', 'Lionel', 'Messi', 'menggandakan', 'keunggulan', 'Barcelona', 'menit', 'berselang', 'Namun', 'nahas', 'bagi', 'Barcelona', 'karena', 'Messi', 'harus', 'ditarik', 'keluar', 'pada', 'menit', 'ke', 'setelah', 'mengalami', 'cedera', 'Tanpa', 'Messi', 'skor', 'bertahan', 'hingga', 'babak', 'pertama', 'berakhir']\n"
     ]
    }
   ],
   "source": [
    "paragrafList = paragraf.split()\n",
    "paragrafList = [i.strip() for i in paragrafList]\n",
    "print(paragrafList)"
   ]
  },
  {
   "cell_type": "code",
   "execution_count": 102,
   "metadata": {},
   "outputs": [
    {
     "name": "stdout",
     "output_type": "stream",
     "text": [
      "{'Barcelona': 4, 'berhasil': 1, 'merebut': 1, 'posisi': 1, 'puncak': 1, 'klasemen': 1, 'La': 1, 'Liga': 1, 'Spanyol': 1, 'seusai': 1, 'menang': 1, 'atas': 1, 'Sevilla': 1, 'pada': 3, 'pertandingan': 1, 'pekan': 1, 'kesembilan': 1, 'di': 1, 'Stadion': 1, 'Camp': 1, 'Nou': 1, 'Sabtu': 1, 'atau': 1, 'Minggu': 1, 'dini': 1, 'hari': 1, 'WIB': 1, 'membuka': 1, 'keunggulan': 2, 'menit': 3, 'ke': 2, 'melalui': 1, 'gol': 1, 'yang': 1, 'dicetak': 1, 'oleh': 1, 'Philippe': 1, 'Coutinho': 1, 'Lionel': 1, 'Messi': 3, 'menggandakan': 1, 'berselang': 1, 'Namun': 1, 'nahas': 1, 'bagi': 1, 'karena': 1, 'harus': 1, 'ditarik': 1, 'keluar': 1, 'setelah': 1, 'mengalami': 1, 'cedera': 1, 'Tanpa': 1, 'skor': 1, 'bertahan': 1, 'hingga': 1, 'babak': 1, 'pertama': 1, 'berakhir': 1}\n"
     ]
    }
   ],
   "source": [
    "paragrafDict = {}\n",
    "for word in paragrafList:\n",
    "    paragrafDict[word] = paragrafList.count(word)\n",
    "print(paragrafDict)"
   ]
  },
  {
   "cell_type": "code",
   "execution_count": 106,
   "metadata": {},
   "outputs": [
    {
     "name": "stdout",
     "output_type": "stream",
     "text": [
      "Barcelona : 4\n",
      "berhasil : 1\n",
      "merebut : 1\n",
      "posisi : 1\n",
      "puncak : 1\n",
      "klasemen : 1\n",
      "La : 1\n",
      "Liga : 1\n",
      "Spanyol : 1\n",
      "seusai : 1\n",
      "menang : 1\n",
      "atas : 1\n",
      "Sevilla : 1\n",
      "pada : 3\n",
      "pertandingan : 1\n",
      "pekan : 1\n",
      "kesembilan : 1\n",
      "di : 1\n",
      "Stadion : 1\n",
      "Camp : 1\n",
      "Nou : 1\n",
      "Sabtu : 1\n",
      "atau : 1\n",
      "Minggu : 1\n",
      "dini : 1\n",
      "hari : 1\n",
      "WIB : 1\n",
      "membuka : 1\n",
      "keunggulan : 2\n",
      "menit : 3\n",
      "ke : 2\n",
      "melalui : 1\n",
      "gol : 1\n",
      "yang : 1\n",
      "dicetak : 1\n",
      "oleh : 1\n",
      "Philippe : 1\n",
      "Coutinho : 1\n",
      "Lionel : 1\n",
      "Messi : 3\n",
      "menggandakan : 1\n",
      "berselang : 1\n",
      "Namun : 1\n",
      "nahas : 1\n",
      "bagi : 1\n",
      "karena : 1\n",
      "harus : 1\n",
      "ditarik : 1\n",
      "keluar : 1\n",
      "setelah : 1\n",
      "mengalami : 1\n",
      "cedera : 1\n",
      "Tanpa : 1\n",
      "skor : 1\n",
      "bertahan : 1\n",
      "hingga : 1\n",
      "babak : 1\n",
      "pertama : 1\n",
      "berakhir : 1\n"
     ]
    }
   ],
   "source": [
    "for k,v in paragrafDict.items():\n",
    "    print(k,':',v)"
   ]
  },
  {
   "cell_type": "code",
   "execution_count": null,
   "metadata": {},
   "outputs": [],
   "source": []
  }
 ],
 "metadata": {
  "kernelspec": {
   "display_name": "Python 3",
   "language": "python",
   "name": "python3"
  },
  "language_info": {
   "codemirror_mode": {
    "name": "ipython",
    "version": 3
   },
   "file_extension": ".py",
   "mimetype": "text/x-python",
   "name": "python",
   "nbconvert_exporter": "python",
   "pygments_lexer": "ipython3",
   "version": "3.7.0"
  }
 },
 "nbformat": 4,
 "nbformat_minor": 2
}
