{
 "cells": [
  {
   "cell_type": "markdown",
   "metadata": {},
   "source": [
    "    ruzannah ismah mutiah\n",
    "    BigData B"
   ]
  },
  {
   "cell_type": "markdown",
   "metadata": {},
   "source": [
    "# Indeks Pembangunan Manusia (IPM) per Provinsi"
   ]
  },
  {
   "cell_type": "markdown",
   "metadata": {},
   "source": [
    "### Deskripsi Data\n",
    "\n",
    "IPM adalah pengukuran perbandingan dari harapan hidup, melek huruf, pendidikan dan standar hidup untuk semua negara seluruh dunia. IPM digunakan untuk mengklasifikasikan apakah sebuah negara adalah negara maju, negara berkembang atau negara terbelakang dan juga untuk mengukur pengaruh dari kebijaksanaan ekonomi terhadap kualitas hidup.\n",
    "\n",
    "Dataset sumber berisi mengenai IPM (Indeks Pembangunan Manusia) per Provinsi. Penjelasan mengenai Variabel pada Dataset sumber adalah:\n",
    "\n",
    "    kode_provinsi: Kode Provinsi\n",
    "    nama_provinsi: Nama Provinsi\n",
    "    tahun: Tahun\n",
    "    indeks_pembangunan_manusia: Indeks Pembangunan Manusia\n",
    "\n",
    "\n",
    "    sumber data = https://data.go.id/\n",
    "\n",
    "\n"
   ]
  },
  {
   "cell_type": "code",
   "execution_count": 3,
   "metadata": {},
   "outputs": [],
   "source": [
    "import warnings\n",
    "warnings.filterwarnings('ignore')"
   ]
  },
  {
   "cell_type": "code",
   "execution_count": 4,
   "metadata": {},
   "outputs": [],
   "source": [
    "import numpy as np\n",
    "import pandas as pd\n",
    "import os, statistics, math"
   ]
  },
  {
   "cell_type": "code",
   "execution_count": 5,
   "metadata": {},
   "outputs": [
    {
     "data": {
      "text/plain": [
       "'/Users/mutiihaha/Desktop/DataScience/integritas/digitalentBigData'"
      ]
     },
     "execution_count": 5,
     "metadata": {},
     "output_type": "execute_result"
    }
   ],
   "source": [
    "os.getcwd()"
   ]
  },
  {
   "cell_type": "code",
   "execution_count": 6,
   "metadata": {},
   "outputs": [],
   "source": [
    "os.chdir('/Users/mutiihaha/Desktop/DataScience/dataSource')"
   ]
  },
  {
   "cell_type": "code",
   "execution_count": 7,
   "metadata": {},
   "outputs": [],
   "source": [
    "dataIPMkotor = pd.read_csv('processed-ipm-per-provinsi-1996-2010.csv')"
   ]
  },
  {
   "cell_type": "code",
   "execution_count": 8,
   "metadata": {},
   "outputs": [
    {
     "data": {
      "text/html": [
       "<div>\n",
       "<style scoped>\n",
       "    .dataframe tbody tr th:only-of-type {\n",
       "        vertical-align: middle;\n",
       "    }\n",
       "\n",
       "    .dataframe tbody tr th {\n",
       "        vertical-align: top;\n",
       "    }\n",
       "\n",
       "    .dataframe thead th {\n",
       "        text-align: right;\n",
       "    }\n",
       "</style>\n",
       "<table border=\"1\" class=\"dataframe\">\n",
       "  <thead>\n",
       "    <tr style=\"text-align: right;\">\n",
       "      <th></th>\n",
       "      <th>kode_provinsi</th>\n",
       "      <th>nama_provinsi</th>\n",
       "      <th>tahun</th>\n",
       "      <th>indeks_pembangunan_manusia</th>\n",
       "    </tr>\n",
       "  </thead>\n",
       "  <tbody>\n",
       "    <tr>\n",
       "      <th>80</th>\n",
       "      <td>19</td>\n",
       "      <td>Prov. Kepulauan Bangka Belitung</td>\n",
       "      <td>1996</td>\n",
       "      <td>0.0</td>\n",
       "    </tr>\n",
       "    <tr>\n",
       "      <th>81</th>\n",
       "      <td>19</td>\n",
       "      <td>Prov. Kepulauan Bangka Belitung</td>\n",
       "      <td>1999</td>\n",
       "      <td>0.0</td>\n",
       "    </tr>\n",
       "    <tr>\n",
       "      <th>90</th>\n",
       "      <td>21</td>\n",
       "      <td>Prov. Kepulauan Riau</td>\n",
       "      <td>1996</td>\n",
       "      <td>0.0</td>\n",
       "    </tr>\n",
       "    <tr>\n",
       "      <th>91</th>\n",
       "      <td>21</td>\n",
       "      <td>Prov. Kepulauan Riau</td>\n",
       "      <td>1999</td>\n",
       "      <td>0.0</td>\n",
       "    </tr>\n",
       "    <tr>\n",
       "      <th>92</th>\n",
       "      <td>21</td>\n",
       "      <td>Prov. Kepulauan Riau</td>\n",
       "      <td>2002</td>\n",
       "      <td>0.0</td>\n",
       "    </tr>\n",
       "    <tr>\n",
       "      <th>150</th>\n",
       "      <td>36</td>\n",
       "      <td>Prov. Banten</td>\n",
       "      <td>1996</td>\n",
       "      <td>0.0</td>\n",
       "    </tr>\n",
       "    <tr>\n",
       "      <th>151</th>\n",
       "      <td>36</td>\n",
       "      <td>Prov. Banten</td>\n",
       "      <td>1999</td>\n",
       "      <td>0.0</td>\n",
       "    </tr>\n",
       "    <tr>\n",
       "      <th>270</th>\n",
       "      <td>75</td>\n",
       "      <td>Prov. Gorontalo</td>\n",
       "      <td>1996</td>\n",
       "      <td>0.0</td>\n",
       "    </tr>\n",
       "    <tr>\n",
       "      <th>271</th>\n",
       "      <td>75</td>\n",
       "      <td>Prov. Gorontalo</td>\n",
       "      <td>1999</td>\n",
       "      <td>0.0</td>\n",
       "    </tr>\n",
       "    <tr>\n",
       "      <th>280</th>\n",
       "      <td>76</td>\n",
       "      <td>Prov. Sulawesi Barat</td>\n",
       "      <td>1996</td>\n",
       "      <td>0.0</td>\n",
       "    </tr>\n",
       "    <tr>\n",
       "      <th>281</th>\n",
       "      <td>76</td>\n",
       "      <td>Prov. Sulawesi Barat</td>\n",
       "      <td>1999</td>\n",
       "      <td>0.0</td>\n",
       "    </tr>\n",
       "    <tr>\n",
       "      <th>282</th>\n",
       "      <td>76</td>\n",
       "      <td>Prov. Sulawesi Barat</td>\n",
       "      <td>2002</td>\n",
       "      <td>0.0</td>\n",
       "    </tr>\n",
       "    <tr>\n",
       "      <th>300</th>\n",
       "      <td>82</td>\n",
       "      <td>Prov. Maluku Utara</td>\n",
       "      <td>1996</td>\n",
       "      <td>0.0</td>\n",
       "    </tr>\n",
       "    <tr>\n",
       "      <th>301</th>\n",
       "      <td>82</td>\n",
       "      <td>Prov. Maluku Utara</td>\n",
       "      <td>1999</td>\n",
       "      <td>0.0</td>\n",
       "    </tr>\n",
       "    <tr>\n",
       "      <th>310</th>\n",
       "      <td>91</td>\n",
       "      <td>Prov. Papua Barat</td>\n",
       "      <td>1996</td>\n",
       "      <td>0.0</td>\n",
       "    </tr>\n",
       "    <tr>\n",
       "      <th>311</th>\n",
       "      <td>91</td>\n",
       "      <td>Prov. Papua Barat</td>\n",
       "      <td>1999</td>\n",
       "      <td>0.0</td>\n",
       "    </tr>\n",
       "    <tr>\n",
       "      <th>312</th>\n",
       "      <td>91</td>\n",
       "      <td>Prov. Papua Barat</td>\n",
       "      <td>2002</td>\n",
       "      <td>0.0</td>\n",
       "    </tr>\n",
       "  </tbody>\n",
       "</table>\n",
       "</div>"
      ],
      "text/plain": [
       "     kode_provinsi                    nama_provinsi  tahun  \\\n",
       "80              19  Prov. Kepulauan Bangka Belitung   1996   \n",
       "81              19  Prov. Kepulauan Bangka Belitung   1999   \n",
       "90              21             Prov. Kepulauan Riau   1996   \n",
       "91              21             Prov. Kepulauan Riau   1999   \n",
       "92              21             Prov. Kepulauan Riau   2002   \n",
       "150             36                     Prov. Banten   1996   \n",
       "151             36                     Prov. Banten   1999   \n",
       "270             75                  Prov. Gorontalo   1996   \n",
       "271             75                  Prov. Gorontalo   1999   \n",
       "280             76             Prov. Sulawesi Barat   1996   \n",
       "281             76             Prov. Sulawesi Barat   1999   \n",
       "282             76             Prov. Sulawesi Barat   2002   \n",
       "300             82               Prov. Maluku Utara   1996   \n",
       "301             82               Prov. Maluku Utara   1999   \n",
       "310             91                Prov. Papua Barat   1996   \n",
       "311             91                Prov. Papua Barat   1999   \n",
       "312             91                Prov. Papua Barat   2002   \n",
       "\n",
       "     indeks_pembangunan_manusia  \n",
       "80                          0.0  \n",
       "81                          0.0  \n",
       "90                          0.0  \n",
       "91                          0.0  \n",
       "92                          0.0  \n",
       "150                         0.0  \n",
       "151                         0.0  \n",
       "270                         0.0  \n",
       "271                         0.0  \n",
       "280                         0.0  \n",
       "281                         0.0  \n",
       "282                         0.0  \n",
       "300                         0.0  \n",
       "301                         0.0  \n",
       "310                         0.0  \n",
       "311                         0.0  \n",
       "312                         0.0  "
      ]
     },
     "execution_count": 8,
     "metadata": {},
     "output_type": "execute_result"
    }
   ],
   "source": [
    "#data kotor masih terdapat nilai 0\n",
    "dataIPMkotor[dataIPMkotor.indeks_pembangunan_manusia==0.0]"
   ]
  },
  {
   "cell_type": "markdown",
   "metadata": {},
   "source": [
    "untuk mendapatkan hasil perhitungan statistik yg lebih baik, maka baris dg nilai 0.0 tersebut dihapuskan"
   ]
  },
  {
   "cell_type": "code",
   "execution_count": 9,
   "metadata": {},
   "outputs": [],
   "source": [
    "dataIPM = dataIPMkotor[dataIPMkotor.indeks_pembangunan_manusia!=0.0]"
   ]
  },
  {
   "cell_type": "markdown",
   "metadata": {},
   "source": [
    "## Data Statistik"
   ]
  },
  {
   "cell_type": "code",
   "execution_count": 10,
   "metadata": {},
   "outputs": [],
   "source": [
    "import statistics"
   ]
  },
  {
   "cell_type": "markdown",
   "metadata": {},
   "source": [
    "#### rata rata untuk tiap tahunnya"
   ]
  },
  {
   "cell_type": "code",
   "execution_count": 11,
   "metadata": {},
   "outputs": [
    {
     "data": {
      "text/plain": [
       "Int64Index([1996, 1999, 2002, 2004, 2005, 2006, 2007, 2008, 2009, 2010], dtype='int64')"
      ]
     },
     "execution_count": 11,
     "metadata": {},
     "output_type": "execute_result"
    }
   ],
   "source": [
    "dataIPM.tahun = dataIPM.tahun.astype('category')\n",
    "tahunIPM = dataIPM.tahun.cat.categories\n",
    "tahunIPM"
   ]
  },
  {
   "cell_type": "code",
   "execution_count": 12,
   "metadata": {},
   "outputs": [
    {
     "name": "stdout",
     "output_type": "stream",
     "text": [
      "nilai rata rata indeks pembangunan manusia pertahun nya\n",
      "1996 : 67.72\n",
      "1999 : 64.4\n",
      "2002 : 66.15\n",
      "2004 : 68.36\n",
      "2005 : 69.29\n",
      "2006 : 69.81\n",
      "2007 : 70.31\n",
      "2008 : 70.88\n",
      "2009 : 71.4\n",
      "2010 : 71.86\n"
     ]
    }
   ],
   "source": [
    "tahun = {}\n",
    "for thn in tahunIPM:\n",
    "    tahun[thn] = round(statistics.mean(dataIPM[dataIPM.tahun==thn]['indeks_pembangunan_manusia']),2)\n",
    "\n",
    "print('nilai rata rata indeks pembangunan manusia pertahun nya')\n",
    "for k,v in tahun.items():\n",
    "         print (k,':',v)"
   ]
  },
  {
   "cell_type": "markdown",
   "metadata": {},
   "source": [
    "#### modus index pembangunan manusia dari seluruh data: 69"
   ]
  },
  {
   "cell_type": "code",
   "execution_count": 14,
   "metadata": {},
   "outputs": [
    {
     "data": {
      "text/plain": [
       "69"
      ]
     },
     "execution_count": 14,
     "metadata": {},
     "output_type": "execute_result"
    }
   ],
   "source": [
    "datanotNull = dataIPM[dataIPM.indeks_pembangunan_manusia!=0.0]\n",
    "listIPM= list(datanotNull['indeks_pembangunan_manusia'])\n",
    "listIPMround = [ round(i) for i in listIPM]\n",
    "modus = statistics.mode(listIPMround)\n",
    "modus"
   ]
  },
  {
   "cell_type": "markdown",
   "metadata": {},
   "source": [
    "#### nilai median IPM untuk tiap provinsi"
   ]
  },
  {
   "cell_type": "code",
   "execution_count": 15,
   "metadata": {},
   "outputs": [
    {
     "name": "stdout",
     "output_type": "stream",
     "text": [
      "nilai median indeks pembangunan manusia pada tiap provinsi\n",
      "Prov. Bali : 70.08\n",
      "Prov. Banten : 69.2\n",
      "Prov. Bengkulu : 71.19\n",
      "Prov. D I Yogyakarta : 73.6\n",
      "Prov. DKI Jakarta : 76.22\n",
      "Prov. Gorontalo : 68.42\n",
      "Prov. Jambi : 71.12\n",
      "Prov. Jawa Barat : 70.12\n",
      "Prov. Jawa Tengah : 70.02\n",
      "Prov. Jawa Timur : 68.8\n",
      "Prov. Kalimantan Barat : 66.64\n",
      "Prov. Kalimantan Selatan : 67.59\n",
      "Prov. Kalimantan Tengah : 73.31\n",
      "Prov. Kalimantan Timur : 73.1\n",
      "Prov. Kepulauan Bangka Belitung : 71.4\n",
      "Prov. Kepulauan Riau : 73.68\n",
      "Prov. Lampung : 69.11\n",
      "Prov. Maluku : 69.47\n",
      "Prov. Maluku Utara : 67.66\n",
      "Prov. Nanggroe Aceh Darussalam : 69.41\n",
      "Prov. Nusa Tenggara Barat : 62.73\n",
      "Prov. Nusa Tenggara Timur : 64.21\n",
      "Prov. Papua : 62.41\n",
      "Prov. Papua Barat : 67.28\n",
      "Prov. Riau : 73.72\n",
      "Prov. Sulawesi Barat : 67.72\n",
      "Prov. Sulawesi Selatan : 68.44\n",
      "Prov. Sulawesi Tengah : 68.66\n",
      "Prov. Sulawesi Tenggara : 67.66\n",
      "Prov. Sulawesi Utara : 74.29\n",
      "Prov. Sumatera Barat : 71.42\n",
      "Prov. Sumatera Selatan : 70.66\n",
      "Prov. Sumatera Utara : 72.25\n"
     ]
    }
   ],
   "source": [
    "dataIPM.nama_provinsi = dataIPM.nama_provinsi.astype('category')\n",
    "provIPM = dataIPM.nama_provinsi.cat.categories\n",
    "#List berisi nama2 provinsi\n",
    "\n",
    "#dictionary untuk MEDIAN tiap prov -- provinsiMED{}\n",
    "provinsiMED = {}\n",
    "for prv in provIPM:\n",
    "    provinsiMED[prv] = round(statistics.median(dataIPM[dataIPM.nama_provinsi==prv]['indeks_pembangunan_manusia']),2)\n",
    "\n",
    "print('nilai median indeks pembangunan manusia pada tiap provinsi')\n",
    "for k,v in provinsiMED.items():\n",
    "         print (k,':',v)"
   ]
  },
  {
   "cell_type": "markdown",
   "metadata": {},
   "source": [
    "#### Standar Deviasi IPM untuk tiap provinsi"
   ]
  },
  {
   "cell_type": "code",
   "execution_count": 16,
   "metadata": {},
   "outputs": [
    {
     "name": "stdout",
     "output_type": "stream",
     "text": [
      "Nilai Standar Deviasi indeks pembangunan manusia pada tiap provinsi\n",
      "Prov. Bali : 1.94\n",
      "Prov. Banten : 1.25\n",
      "Prov. Bengkulu : 2.77\n",
      "Prov. D I Yogyakarta : 2.18\n",
      "Prov. DKI Jakarta : 1.43\n",
      "Prov. Gorontalo : 2.17\n",
      "Prov. Jambi : 2.39\n",
      "Prov. Jawa Barat : 2.51\n",
      "Prov. Jawa Tengah : 2.66\n",
      "Prov. Jawa Timur : 3.23\n",
      "Prov. Kalimantan Barat : 2.81\n",
      "Prov. Kalimantan Selatan : 2.34\n",
      "Prov. Kalimantan Tengah : 2.55\n",
      "Prov. Kalimantan Timur : 2.4\n",
      "Prov. Kepulauan Bangka Belitung : 2.41\n",
      "Prov. Kepulauan Riau : 1.49\n",
      "Prov. Lampung : 2.55\n",
      "Prov. Maluku : 1.58\n",
      "Prov. Maluku Utara : 1.11\n",
      "Prov. Nanggroe Aceh Darussalam : 2.12\n",
      "Prov. Nusa Tenggara Barat : 3.78\n",
      "Prov. Nusa Tenggara Timur : 2.63\n",
      "Prov. Papua : 2.1\n",
      "Prov. Papua Barat : 2.01\n",
      "Prov. Riau : 2.94\n",
      "Prov. Sulawesi Barat : 1.89\n",
      "Prov. Sulawesi Selatan : 2.59\n",
      "Prov. Sulawesi Tengah : 2.73\n",
      "Prov. Sulawesi Tenggara : 2.3\n",
      "Prov. Sulawesi Utara : 2.7\n",
      "Prov. Sumatera Barat : 2.62\n",
      "Prov. Sumatera Selatan : 2.98\n",
      "Prov. Sumatera Utara : 2.38\n"
     ]
    }
   ],
   "source": [
    "dataIPM.nama_provinsi = dataIPM.nama_provinsi.astype('category')\n",
    "provIPM = dataIPM.nama_provinsi.cat.categories\n",
    "provIPM\n",
    "\n",
    "#dictionary untuk sd tiap prov -- provinsiSD{}\n",
    "provinsiSD = {}\n",
    "for prv in provIPM:\n",
    "    provinsiSD[prv] = round(statistics.stdev(dataIPM[dataIPM.nama_provinsi==prv]['indeks_pembangunan_manusia']),2)\n",
    "\n",
    "print('Nilai Standar Deviasi indeks pembangunan manusia pada tiap provinsi')\n",
    "for k,v in provinsiSD.items():\n",
    "         print (k,':',v)"
   ]
  },
  {
   "cell_type": "code",
   "execution_count": 17,
   "metadata": {},
   "outputs": [
    {
     "data": {
      "text/html": [
       "<div>\n",
       "<style scoped>\n",
       "    .dataframe tbody tr th:only-of-type {\n",
       "        vertical-align: middle;\n",
       "    }\n",
       "\n",
       "    .dataframe tbody tr th {\n",
       "        vertical-align: top;\n",
       "    }\n",
       "\n",
       "    .dataframe thead th {\n",
       "        text-align: right;\n",
       "    }\n",
       "</style>\n",
       "<table border=\"1\" class=\"dataframe\">\n",
       "  <thead>\n",
       "    <tr style=\"text-align: right;\">\n",
       "      <th></th>\n",
       "      <th>nama_provinsi</th>\n",
       "      <th>nilai_standar_deviasi</th>\n",
       "    </tr>\n",
       "  </thead>\n",
       "  <tbody>\n",
       "    <tr>\n",
       "      <th>0</th>\n",
       "      <td>Prov. Bali</td>\n",
       "      <td>1.94</td>\n",
       "    </tr>\n",
       "    <tr>\n",
       "      <th>1</th>\n",
       "      <td>Prov. Banten</td>\n",
       "      <td>1.25</td>\n",
       "    </tr>\n",
       "    <tr>\n",
       "      <th>2</th>\n",
       "      <td>Prov. Bengkulu</td>\n",
       "      <td>2.77</td>\n",
       "    </tr>\n",
       "    <tr>\n",
       "      <th>3</th>\n",
       "      <td>Prov. D I Yogyakarta</td>\n",
       "      <td>2.18</td>\n",
       "    </tr>\n",
       "    <tr>\n",
       "      <th>4</th>\n",
       "      <td>Prov. DKI Jakarta</td>\n",
       "      <td>1.43</td>\n",
       "    </tr>\n",
       "    <tr>\n",
       "      <th>5</th>\n",
       "      <td>Prov. Gorontalo</td>\n",
       "      <td>2.17</td>\n",
       "    </tr>\n",
       "    <tr>\n",
       "      <th>6</th>\n",
       "      <td>Prov. Jambi</td>\n",
       "      <td>2.39</td>\n",
       "    </tr>\n",
       "    <tr>\n",
       "      <th>7</th>\n",
       "      <td>Prov. Jawa Barat</td>\n",
       "      <td>2.51</td>\n",
       "    </tr>\n",
       "    <tr>\n",
       "      <th>8</th>\n",
       "      <td>Prov. Jawa Tengah</td>\n",
       "      <td>2.66</td>\n",
       "    </tr>\n",
       "    <tr>\n",
       "      <th>9</th>\n",
       "      <td>Prov. Jawa Timur</td>\n",
       "      <td>3.23</td>\n",
       "    </tr>\n",
       "    <tr>\n",
       "      <th>10</th>\n",
       "      <td>Prov. Kalimantan Barat</td>\n",
       "      <td>2.81</td>\n",
       "    </tr>\n",
       "    <tr>\n",
       "      <th>11</th>\n",
       "      <td>Prov. Kalimantan Selatan</td>\n",
       "      <td>2.34</td>\n",
       "    </tr>\n",
       "    <tr>\n",
       "      <th>12</th>\n",
       "      <td>Prov. Kalimantan Tengah</td>\n",
       "      <td>2.55</td>\n",
       "    </tr>\n",
       "    <tr>\n",
       "      <th>13</th>\n",
       "      <td>Prov. Kalimantan Timur</td>\n",
       "      <td>2.40</td>\n",
       "    </tr>\n",
       "    <tr>\n",
       "      <th>14</th>\n",
       "      <td>Prov. Kepulauan Bangka Belitung</td>\n",
       "      <td>2.41</td>\n",
       "    </tr>\n",
       "    <tr>\n",
       "      <th>15</th>\n",
       "      <td>Prov. Kepulauan Riau</td>\n",
       "      <td>1.49</td>\n",
       "    </tr>\n",
       "    <tr>\n",
       "      <th>16</th>\n",
       "      <td>Prov. Lampung</td>\n",
       "      <td>2.55</td>\n",
       "    </tr>\n",
       "    <tr>\n",
       "      <th>17</th>\n",
       "      <td>Prov. Maluku</td>\n",
       "      <td>1.58</td>\n",
       "    </tr>\n",
       "    <tr>\n",
       "      <th>18</th>\n",
       "      <td>Prov. Maluku Utara</td>\n",
       "      <td>1.11</td>\n",
       "    </tr>\n",
       "    <tr>\n",
       "      <th>19</th>\n",
       "      <td>Prov. Nanggroe Aceh Darussalam</td>\n",
       "      <td>2.12</td>\n",
       "    </tr>\n",
       "    <tr>\n",
       "      <th>20</th>\n",
       "      <td>Prov. Nusa Tenggara Barat</td>\n",
       "      <td>3.78</td>\n",
       "    </tr>\n",
       "    <tr>\n",
       "      <th>21</th>\n",
       "      <td>Prov. Nusa Tenggara Timur</td>\n",
       "      <td>2.63</td>\n",
       "    </tr>\n",
       "    <tr>\n",
       "      <th>22</th>\n",
       "      <td>Prov. Papua</td>\n",
       "      <td>2.10</td>\n",
       "    </tr>\n",
       "    <tr>\n",
       "      <th>23</th>\n",
       "      <td>Prov. Papua Barat</td>\n",
       "      <td>2.01</td>\n",
       "    </tr>\n",
       "    <tr>\n",
       "      <th>24</th>\n",
       "      <td>Prov. Riau</td>\n",
       "      <td>2.94</td>\n",
       "    </tr>\n",
       "    <tr>\n",
       "      <th>25</th>\n",
       "      <td>Prov. Sulawesi Barat</td>\n",
       "      <td>1.89</td>\n",
       "    </tr>\n",
       "    <tr>\n",
       "      <th>26</th>\n",
       "      <td>Prov. Sulawesi Selatan</td>\n",
       "      <td>2.59</td>\n",
       "    </tr>\n",
       "    <tr>\n",
       "      <th>27</th>\n",
       "      <td>Prov. Sulawesi Tengah</td>\n",
       "      <td>2.73</td>\n",
       "    </tr>\n",
       "    <tr>\n",
       "      <th>28</th>\n",
       "      <td>Prov. Sulawesi Tenggara</td>\n",
       "      <td>2.30</td>\n",
       "    </tr>\n",
       "    <tr>\n",
       "      <th>29</th>\n",
       "      <td>Prov. Sulawesi Utara</td>\n",
       "      <td>2.70</td>\n",
       "    </tr>\n",
       "    <tr>\n",
       "      <th>30</th>\n",
       "      <td>Prov. Sumatera Barat</td>\n",
       "      <td>2.62</td>\n",
       "    </tr>\n",
       "    <tr>\n",
       "      <th>31</th>\n",
       "      <td>Prov. Sumatera Selatan</td>\n",
       "      <td>2.98</td>\n",
       "    </tr>\n",
       "    <tr>\n",
       "      <th>32</th>\n",
       "      <td>Prov. Sumatera Utara</td>\n",
       "      <td>2.38</td>\n",
       "    </tr>\n",
       "  </tbody>\n",
       "</table>\n",
       "</div>"
      ],
      "text/plain": [
       "                      nama_provinsi  nilai_standar_deviasi\n",
       "0                        Prov. Bali                   1.94\n",
       "1                      Prov. Banten                   1.25\n",
       "2                    Prov. Bengkulu                   2.77\n",
       "3              Prov. D I Yogyakarta                   2.18\n",
       "4                 Prov. DKI Jakarta                   1.43\n",
       "5                   Prov. Gorontalo                   2.17\n",
       "6                       Prov. Jambi                   2.39\n",
       "7                  Prov. Jawa Barat                   2.51\n",
       "8                 Prov. Jawa Tengah                   2.66\n",
       "9                  Prov. Jawa Timur                   3.23\n",
       "10           Prov. Kalimantan Barat                   2.81\n",
       "11         Prov. Kalimantan Selatan                   2.34\n",
       "12          Prov. Kalimantan Tengah                   2.55\n",
       "13           Prov. Kalimantan Timur                   2.40\n",
       "14  Prov. Kepulauan Bangka Belitung                   2.41\n",
       "15             Prov. Kepulauan Riau                   1.49\n",
       "16                    Prov. Lampung                   2.55\n",
       "17                     Prov. Maluku                   1.58\n",
       "18               Prov. Maluku Utara                   1.11\n",
       "19   Prov. Nanggroe Aceh Darussalam                   2.12\n",
       "20        Prov. Nusa Tenggara Barat                   3.78\n",
       "21        Prov. Nusa Tenggara Timur                   2.63\n",
       "22                      Prov. Papua                   2.10\n",
       "23                Prov. Papua Barat                   2.01\n",
       "24                       Prov. Riau                   2.94\n",
       "25             Prov. Sulawesi Barat                   1.89\n",
       "26           Prov. Sulawesi Selatan                   2.59\n",
       "27            Prov. Sulawesi Tengah                   2.73\n",
       "28          Prov. Sulawesi Tenggara                   2.30\n",
       "29             Prov. Sulawesi Utara                   2.70\n",
       "30             Prov. Sumatera Barat                   2.62\n",
       "31           Prov. Sumatera Selatan                   2.98\n",
       "32             Prov. Sumatera Utara                   2.38"
      ]
     },
     "execution_count": 17,
     "metadata": {},
     "output_type": "execute_result"
    }
   ],
   "source": [
    "listProv = list(provIPM)\n",
    "listStd = list(provinsiSD.values())\n",
    "\n",
    "stdvDF = pd.DataFrame({'nama_provinsi':listProv,\n",
    "                        'nilai_standar_deviasi':listStd})\n",
    "stdvDF"
   ]
  },
  {
   "cell_type": "markdown",
   "metadata": {},
   "source": [
    "#### variance IPM untuk tiap provinsi"
   ]
  },
  {
   "cell_type": "code",
   "execution_count": 18,
   "metadata": {},
   "outputs": [
    {
     "name": "stdout",
     "output_type": "stream",
     "text": [
      "Nilai Variance indeks pembangunan manusia pada tiap provinsi\n",
      "Prov. Bali : 3.75\n",
      "Prov. Banten : 1.56\n",
      "Prov. Bengkulu : 7.65\n",
      "Prov. D I Yogyakarta : 4.76\n",
      "Prov. DKI Jakarta : 2.03\n",
      "Prov. Gorontalo : 4.7\n",
      "Prov. Jambi : 5.72\n",
      "Prov. Jawa Barat : 6.3\n",
      "Prov. Jawa Tengah : 7.06\n",
      "Prov. Jawa Timur : 10.45\n",
      "Prov. Kalimantan Barat : 7.87\n",
      "Prov. Kalimantan Selatan : 5.49\n",
      "Prov. Kalimantan Tengah : 6.5\n",
      "Prov. Kalimantan Timur : 5.78\n",
      "Prov. Kepulauan Bangka Belitung : 5.81\n",
      "Prov. Kepulauan Riau : 2.21\n",
      "Prov. Lampung : 6.51\n",
      "Prov. Maluku : 2.5\n",
      "Prov. Maluku Utara : 1.22\n",
      "Prov. Nanggroe Aceh Darussalam : 4.47\n",
      "Prov. Nusa Tenggara Barat : 14.31\n",
      "Prov. Nusa Tenggara Timur : 6.92\n",
      "Prov. Papua : 4.4\n",
      "Prov. Papua Barat : 4.04\n",
      "Prov. Riau : 8.66\n",
      "Prov. Sulawesi Barat : 3.59\n",
      "Prov. Sulawesi Selatan : 6.7\n",
      "Prov. Sulawesi Tengah : 7.48\n",
      "Prov. Sulawesi Tenggara : 5.28\n",
      "Prov. Sulawesi Utara : 7.27\n",
      "Prov. Sumatera Barat : 6.89\n",
      "Prov. Sumatera Selatan : 8.87\n",
      "Prov. Sumatera Utara : 5.65\n"
     ]
    }
   ],
   "source": [
    "dataIPM.nama_provinsi = dataIPM.nama_provinsi.astype('category')\n",
    "provIPM = dataIPM.nama_provinsi.cat.categories\n",
    "provIPM\n",
    "\n",
    "#dictionary untuk sd tiap prov -- provinsiSD{}\n",
    "#dictionary untuk variance tiap prov -- provinsiVAR{}\n",
    "provinsiVAR = {}\n",
    "for prv in provIPM:\n",
    "    provinsiVAR[prv] = round(statistics.variance(dataIPM[dataIPM.nama_provinsi==prv]['indeks_pembangunan_manusia']),2)\n",
    "\n",
    "print('Nilai Variance indeks pembangunan manusia pada tiap provinsi')\n",
    "for k,v in provinsiVAR.items():\n",
    "         print (k,':',v)"
   ]
  },
  {
   "cell_type": "code",
   "execution_count": 19,
   "metadata": {},
   "outputs": [
    {
     "data": {
      "text/html": [
       "<div>\n",
       "<style scoped>\n",
       "    .dataframe tbody tr th:only-of-type {\n",
       "        vertical-align: middle;\n",
       "    }\n",
       "\n",
       "    .dataframe tbody tr th {\n",
       "        vertical-align: top;\n",
       "    }\n",
       "\n",
       "    .dataframe thead th {\n",
       "        text-align: right;\n",
       "    }\n",
       "</style>\n",
       "<table border=\"1\" class=\"dataframe\">\n",
       "  <thead>\n",
       "    <tr style=\"text-align: right;\">\n",
       "      <th></th>\n",
       "      <th>nama_provinsi</th>\n",
       "      <th>nilai_variance</th>\n",
       "    </tr>\n",
       "  </thead>\n",
       "  <tbody>\n",
       "    <tr>\n",
       "      <th>0</th>\n",
       "      <td>Prov. Bali</td>\n",
       "      <td>3.75</td>\n",
       "    </tr>\n",
       "    <tr>\n",
       "      <th>1</th>\n",
       "      <td>Prov. Banten</td>\n",
       "      <td>1.56</td>\n",
       "    </tr>\n",
       "    <tr>\n",
       "      <th>2</th>\n",
       "      <td>Prov. Bengkulu</td>\n",
       "      <td>7.65</td>\n",
       "    </tr>\n",
       "    <tr>\n",
       "      <th>3</th>\n",
       "      <td>Prov. D I Yogyakarta</td>\n",
       "      <td>4.76</td>\n",
       "    </tr>\n",
       "    <tr>\n",
       "      <th>4</th>\n",
       "      <td>Prov. DKI Jakarta</td>\n",
       "      <td>2.03</td>\n",
       "    </tr>\n",
       "    <tr>\n",
       "      <th>5</th>\n",
       "      <td>Prov. Gorontalo</td>\n",
       "      <td>4.70</td>\n",
       "    </tr>\n",
       "    <tr>\n",
       "      <th>6</th>\n",
       "      <td>Prov. Jambi</td>\n",
       "      <td>5.72</td>\n",
       "    </tr>\n",
       "    <tr>\n",
       "      <th>7</th>\n",
       "      <td>Prov. Jawa Barat</td>\n",
       "      <td>6.30</td>\n",
       "    </tr>\n",
       "    <tr>\n",
       "      <th>8</th>\n",
       "      <td>Prov. Jawa Tengah</td>\n",
       "      <td>7.06</td>\n",
       "    </tr>\n",
       "    <tr>\n",
       "      <th>9</th>\n",
       "      <td>Prov. Jawa Timur</td>\n",
       "      <td>10.45</td>\n",
       "    </tr>\n",
       "    <tr>\n",
       "      <th>10</th>\n",
       "      <td>Prov. Kalimantan Barat</td>\n",
       "      <td>7.87</td>\n",
       "    </tr>\n",
       "    <tr>\n",
       "      <th>11</th>\n",
       "      <td>Prov. Kalimantan Selatan</td>\n",
       "      <td>5.49</td>\n",
       "    </tr>\n",
       "    <tr>\n",
       "      <th>12</th>\n",
       "      <td>Prov. Kalimantan Tengah</td>\n",
       "      <td>6.50</td>\n",
       "    </tr>\n",
       "    <tr>\n",
       "      <th>13</th>\n",
       "      <td>Prov. Kalimantan Timur</td>\n",
       "      <td>5.78</td>\n",
       "    </tr>\n",
       "    <tr>\n",
       "      <th>14</th>\n",
       "      <td>Prov. Kepulauan Bangka Belitung</td>\n",
       "      <td>5.81</td>\n",
       "    </tr>\n",
       "    <tr>\n",
       "      <th>15</th>\n",
       "      <td>Prov. Kepulauan Riau</td>\n",
       "      <td>2.21</td>\n",
       "    </tr>\n",
       "    <tr>\n",
       "      <th>16</th>\n",
       "      <td>Prov. Lampung</td>\n",
       "      <td>6.51</td>\n",
       "    </tr>\n",
       "    <tr>\n",
       "      <th>17</th>\n",
       "      <td>Prov. Maluku</td>\n",
       "      <td>2.50</td>\n",
       "    </tr>\n",
       "    <tr>\n",
       "      <th>18</th>\n",
       "      <td>Prov. Maluku Utara</td>\n",
       "      <td>1.22</td>\n",
       "    </tr>\n",
       "    <tr>\n",
       "      <th>19</th>\n",
       "      <td>Prov. Nanggroe Aceh Darussalam</td>\n",
       "      <td>4.47</td>\n",
       "    </tr>\n",
       "    <tr>\n",
       "      <th>20</th>\n",
       "      <td>Prov. Nusa Tenggara Barat</td>\n",
       "      <td>14.31</td>\n",
       "    </tr>\n",
       "    <tr>\n",
       "      <th>21</th>\n",
       "      <td>Prov. Nusa Tenggara Timur</td>\n",
       "      <td>6.92</td>\n",
       "    </tr>\n",
       "    <tr>\n",
       "      <th>22</th>\n",
       "      <td>Prov. Papua</td>\n",
       "      <td>4.40</td>\n",
       "    </tr>\n",
       "    <tr>\n",
       "      <th>23</th>\n",
       "      <td>Prov. Papua Barat</td>\n",
       "      <td>4.04</td>\n",
       "    </tr>\n",
       "    <tr>\n",
       "      <th>24</th>\n",
       "      <td>Prov. Riau</td>\n",
       "      <td>8.66</td>\n",
       "    </tr>\n",
       "    <tr>\n",
       "      <th>25</th>\n",
       "      <td>Prov. Sulawesi Barat</td>\n",
       "      <td>3.59</td>\n",
       "    </tr>\n",
       "    <tr>\n",
       "      <th>26</th>\n",
       "      <td>Prov. Sulawesi Selatan</td>\n",
       "      <td>6.70</td>\n",
       "    </tr>\n",
       "    <tr>\n",
       "      <th>27</th>\n",
       "      <td>Prov. Sulawesi Tengah</td>\n",
       "      <td>7.48</td>\n",
       "    </tr>\n",
       "    <tr>\n",
       "      <th>28</th>\n",
       "      <td>Prov. Sulawesi Tenggara</td>\n",
       "      <td>5.28</td>\n",
       "    </tr>\n",
       "    <tr>\n",
       "      <th>29</th>\n",
       "      <td>Prov. Sulawesi Utara</td>\n",
       "      <td>7.27</td>\n",
       "    </tr>\n",
       "    <tr>\n",
       "      <th>30</th>\n",
       "      <td>Prov. Sumatera Barat</td>\n",
       "      <td>6.89</td>\n",
       "    </tr>\n",
       "    <tr>\n",
       "      <th>31</th>\n",
       "      <td>Prov. Sumatera Selatan</td>\n",
       "      <td>8.87</td>\n",
       "    </tr>\n",
       "    <tr>\n",
       "      <th>32</th>\n",
       "      <td>Prov. Sumatera Utara</td>\n",
       "      <td>5.65</td>\n",
       "    </tr>\n",
       "  </tbody>\n",
       "</table>\n",
       "</div>"
      ],
      "text/plain": [
       "                      nama_provinsi  nilai_variance\n",
       "0                        Prov. Bali            3.75\n",
       "1                      Prov. Banten            1.56\n",
       "2                    Prov. Bengkulu            7.65\n",
       "3              Prov. D I Yogyakarta            4.76\n",
       "4                 Prov. DKI Jakarta            2.03\n",
       "5                   Prov. Gorontalo            4.70\n",
       "6                       Prov. Jambi            5.72\n",
       "7                  Prov. Jawa Barat            6.30\n",
       "8                 Prov. Jawa Tengah            7.06\n",
       "9                  Prov. Jawa Timur           10.45\n",
       "10           Prov. Kalimantan Barat            7.87\n",
       "11         Prov. Kalimantan Selatan            5.49\n",
       "12          Prov. Kalimantan Tengah            6.50\n",
       "13           Prov. Kalimantan Timur            5.78\n",
       "14  Prov. Kepulauan Bangka Belitung            5.81\n",
       "15             Prov. Kepulauan Riau            2.21\n",
       "16                    Prov. Lampung            6.51\n",
       "17                     Prov. Maluku            2.50\n",
       "18               Prov. Maluku Utara            1.22\n",
       "19   Prov. Nanggroe Aceh Darussalam            4.47\n",
       "20        Prov. Nusa Tenggara Barat           14.31\n",
       "21        Prov. Nusa Tenggara Timur            6.92\n",
       "22                      Prov. Papua            4.40\n",
       "23                Prov. Papua Barat            4.04\n",
       "24                       Prov. Riau            8.66\n",
       "25             Prov. Sulawesi Barat            3.59\n",
       "26           Prov. Sulawesi Selatan            6.70\n",
       "27            Prov. Sulawesi Tengah            7.48\n",
       "28          Prov. Sulawesi Tenggara            5.28\n",
       "29             Prov. Sulawesi Utara            7.27\n",
       "30             Prov. Sumatera Barat            6.89\n",
       "31           Prov. Sumatera Selatan            8.87\n",
       "32             Prov. Sumatera Utara            5.65"
      ]
     },
     "execution_count": 19,
     "metadata": {},
     "output_type": "execute_result"
    }
   ],
   "source": [
    "listProv = list(provIPM)\n",
    "listVar = list(provinsiVAR.values())\n",
    "\n",
    "varianceDF = pd.DataFrame({'nama_provinsi':listProv,\n",
    "                        'nilai_variance':listVar,\n",
    "                        })\n",
    "varianceDF"
   ]
  },
  {
   "cell_type": "markdown",
   "metadata": {},
   "source": [
    "# Visualisasi sederhana"
   ]
  },
  {
   "cell_type": "code",
   "execution_count": 20,
   "metadata": {},
   "outputs": [],
   "source": [
    "import matplotlib.pyplot as plt"
   ]
  },
  {
   "cell_type": "code",
   "execution_count": 21,
   "metadata": {},
   "outputs": [
    {
     "data": {
      "text/plain": [
       "Text(0,0.5,'IPM')"
      ]
     },
     "execution_count": 21,
     "metadata": {},
     "output_type": "execute_result"
    },
    {
     "data": {
      "image/png": "[encoded data removed]",
      "text/plain": [
       "<Figure size 360x360 with 1 Axes>"
      ]
     },
     "metadata": {
      "needs_background": "light"
     },
     "output_type": "display_data"
    }
   ],
   "source": [
    "#### rata rata untuk tiap tahunnya\n",
    "plt.rcParams['figure.figsize'] =5,5\n",
    "ax = datanotNull.groupby('tahun').mean()['indeks_pembangunan_manusia']\n",
    "ax = ax.plot(kind='bar', title =\"Rata-Rata Berdasarkan Tahun\", legend=True, fontsize=12)\n",
    "ax.set_xlabel(\"Tahun\", fontsize=12)\n",
    "ax.set_ylabel(\"IPM\", fontsize=12)"
   ]
  },
  {
   "cell_type": "code",
   "execution_count": 22,
   "metadata": {},
   "outputs": [
    {
     "data": {
      "text/plain": [
       "Text(0,0.5,'IPM')"
      ]
     },
     "execution_count": 22,
     "metadata": {},
     "output_type": "execute_result"
    },
    {
     "data": {
      "image/png": "[encoded data removed]",
      "text/plain": [
       "<Figure size 720x432 with 1 Axes>"
      ]
     },
     "metadata": {
      "needs_background": "light"
     },
     "output_type": "display_data"
    }
   ],
   "source": [
    "#### rata rata untuk tiap provinsi\n",
    "plt.rcParams['figure.figsize'] =10,6\n",
    "ax = datanotNull.groupby('nama_provinsi').mean()['indeks_pembangunan_manusia']\n",
    "ax = ax.plot(kind='bar', title =\"Rata-Rata tiap Provinsi\", legend=True, fontsize=12)\n",
    "ax.set_xlabel(\"provinsi\", fontsize=12)\n",
    "ax.set_ylabel(\"IPM\", fontsize=12)"
   ]
  },
  {
   "cell_type": "code",
   "execution_count": 23,
   "metadata": {},
   "outputs": [
    {
     "data": {
      "text/plain": [
       "([<matplotlib.axis.XTick at 0x11d3f6be0>,\n",
       "  <matplotlib.axis.XTick at 0x11d3f64a8>,\n",
       "  <matplotlib.axis.XTick at 0x11d4030f0>,\n",
       "  <matplotlib.axis.XTick at 0x11d5c07f0>,\n",
       "  <matplotlib.axis.XTick at 0x11d5c0eb8>,\n",
       "  <matplotlib.axis.XTick at 0x11d5c8400>,\n",
       "  <matplotlib.axis.XTick at 0x11d5c8908>,\n",
       "  <matplotlib.axis.XTick at 0x11d5c8e10>,\n",
       "  <matplotlib.axis.XTick at 0x11d5cf358>,\n",
       "  <matplotlib.axis.XTick at 0x11cec4da0>,\n",
       "  <matplotlib.axis.XTick at 0x11d5dfda0>,\n",
       "  <matplotlib.axis.XTick at 0x11d5e52b0>,\n",
       "  <matplotlib.axis.XTick at 0x11d5e57b8>,\n",
       "  <matplotlib.axis.XTick at 0x11d5e5cc0>,\n",
       "  <matplotlib.axis.XTick at 0x11d5e5fd0>,\n",
       "  <matplotlib.axis.XTick at 0x11d5e5208>,\n",
       "  <matplotlib.axis.XTick at 0x11d5d7358>,\n",
       "  <matplotlib.axis.XTick at 0x11d5ee358>,\n",
       "  <matplotlib.axis.XTick at 0x11d5ee9e8>,\n",
       "  <matplotlib.axis.XTick at 0x11d5eeef0>,\n",
       "  <matplotlib.axis.XTick at 0x11d5f5438>,\n",
       "  <matplotlib.axis.XTick at 0x11d5f5940>,\n",
       "  <matplotlib.axis.XTick at 0x11d5f5e48>,\n",
       "  <matplotlib.axis.XTick at 0x11d5fb390>,\n",
       "  <matplotlib.axis.XTick at 0x11d5f54e0>,\n",
       "  <matplotlib.axis.XTick at 0x11d5ee9b0>,\n",
       "  <matplotlib.axis.XTick at 0x11d5fb780>,\n",
       "  <matplotlib.axis.XTick at 0x11d5fbbe0>,\n",
       "  <matplotlib.axis.XTick at 0x11d608160>,\n",
       "  <matplotlib.axis.XTick at 0x11d608630>,\n",
       "  <matplotlib.axis.XTick at 0x11d608b38>,\n",
       "  <matplotlib.axis.XTick at 0x11d60f0f0>,\n",
       "  <matplotlib.axis.XTick at 0x11d60f588>],\n",
       " <a list of 33 Text xticklabel objects>)"
      ]
     },
     "execution_count": 23,
     "metadata": {},
     "output_type": "execute_result"
    },
    {
     "data": {
      "image/png": "[encoded data removed]",
      "text/plain": [
       "<Figure size 720x360 with 1 Axes>"
      ]
     },
     "metadata": {
      "needs_background": "light"
     },
     "output_type": "display_data"
    }
   ],
   "source": [
    "plt.rcParams['figure.figsize'] =10,5\n",
    "stdvDF.plot(kind='bar', title =\"standar deviasi tiap Provinsi\", legend=True, fontsize=12)\n",
    "plt.xticks(list(range(0,33)),provIPM, rotation='vertical')"
   ]
  },
  {
   "cell_type": "code",
   "execution_count": 27,
   "metadata": {},
   "outputs": [
    {
     "data": {
      "text/plain": [
       "<matplotlib.axes._subplots.AxesSubplot at 0x11d95c278>"
      ]
     },
     "execution_count": 27,
     "metadata": {},
     "output_type": "execute_result"
    },
    {
     "data": {
      "image/png": "[encoded data removed]",
      "text/plain": [
       "<Figure size 576x360 with 1 Axes>"
      ]
     },
     "metadata": {
      "needs_background": "light"
     },
     "output_type": "display_data"
    }
   ],
   "source": [
    "dataNTB = dataIPM[dataIPM.nama_provinsi=='Prov. Nusa Tenggara Barat']\n",
    "dataNTB.index = dataNTB.tahun\n",
    "NTB = dataNTB[['tahun','indeks_pembangunan_manusia']]\n",
    "plt.rcParams['figure.figsize'] =8,5\n",
    "NTB.plot(kind='bar', title =\"Indeks pembangunan manusia pada provinsi NTB\", legend=True, fontsize=12)"
   ]
  },
  {
   "cell_type": "code",
   "execution_count": 28,
   "metadata": {},
   "outputs": [
    {
     "data": {
      "text/html": [
       "<div>\n",
       "<style scoped>\n",
       "    .dataframe tbody tr th:only-of-type {\n",
       "        vertical-align: middle;\n",
       "    }\n",
       "\n",
       "    .dataframe tbody tr th {\n",
       "        vertical-align: top;\n",
       "    }\n",
       "\n",
       "    .dataframe thead th {\n",
       "        text-align: right;\n",
       "    }\n",
       "</style>\n",
       "<table border=\"1\" class=\"dataframe\">\n",
       "  <thead>\n",
       "    <tr style=\"text-align: right;\">\n",
       "      <th></th>\n",
       "      <th>nama_provinsi</th>\n",
       "      <th>nilai_standar_deviasi</th>\n",
       "    </tr>\n",
       "  </thead>\n",
       "  <tbody>\n",
       "    <tr>\n",
       "      <th>4</th>\n",
       "      <td>Prov. DKI Jakarta</td>\n",
       "      <td>1.43</td>\n",
       "    </tr>\n",
       "    <tr>\n",
       "      <th>20</th>\n",
       "      <td>Prov. Nusa Tenggara Barat</td>\n",
       "      <td>3.78</td>\n",
       "    </tr>\n",
       "  </tbody>\n",
       "</table>\n",
       "</div>"
      ],
      "text/plain": [
       "                nama_provinsi  nilai_standar_deviasi\n",
       "4           Prov. DKI Jakarta                   1.43\n",
       "20  Prov. Nusa Tenggara Barat                   3.78"
      ]
     },
     "execution_count": 28,
     "metadata": {},
     "output_type": "execute_result"
    }
   ],
   "source": [
    "stdvDF[(stdvDF.nama_provinsi=='Prov. Nusa Tenggara Barat')|(stdvDF.nama_provinsi=='Prov. DKI Jakarta')]"
   ]
  },
  {
   "cell_type": "markdown",
   "metadata": {},
   "source": [
    "dari visualisasi sederhana diatas terlihat bahwa: \n",
    "        \n",
    "    > rata-rata Indeks Pembangunan Manusia terendah terdapat di Provinsi Nusa Tenggara Barat\n",
    "    > rata-rata IPM tertinggi terdapat di Prov. DKI jakarta. \n",
    "    > rata rata terendah IPM terjadi pada tahun 1999, dan semenjak saat itu rata rata IPM selalu meningkat tiap tahunnya.\n",
    "    > ketika dilihat pada diagram standar deviasi tiap provinsi\n",
    "        rata2 standar deviasi tiap provinsi = 2.35\n",
    "        standar deviasi Prov. NTB = 3.78 (standar deviasi tertiggi)\n",
    "        standar deviasi Prov. DKI Jakarta = 1.43\n",
    "        \n",
    "        NTB adalah prov dg SD tertinggi dan rata2 IPM terendah namun Indeks Pembangunan Manusia nya meningkat setiap tahunnya kecuali pada tahun 1999. penurunan IPM pada tahun 1999 yg terjadi pada provinsi NTB adalah hal yang wajar. karena jika dilihat dari visualisai rata rata IPM berdasarkan tahun, rata rata semua provinsi mengalami penurunan IPM di tahun 1999. \n",
    "        "
   ]
  }
 ],
 "metadata": {
  "kernelspec": {
   "display_name": "Python 3",
   "language": "python",
   "name": "python3"
  },
  "language_info": {
   "codemirror_mode": {
    "name": "ipython",
    "version": 3
   },
   "file_extension": ".py",
   "mimetype": "text/x-python",
   "name": "python",
   "nbconvert_exporter": "python",
   "pygments_lexer": "ipython3",
   "version": "3.7.0"
  }
 },
 "nbformat": 4,
 "nbformat_minor": 2
}
