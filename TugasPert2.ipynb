{
 "cells": [
  {
   "cell_type": "markdown",
   "metadata": {},
   "source": [
    "# # TUGAS 2 - LIST NILAI"
   ]
  },
  {
   "cell_type": "code",
   "execution_count": 173,
   "metadata": {},
   "outputs": [
    {
     "name": "stdout",
     "output_type": "stream",
     "text": [
      "[83, 80, 92, 59, 67, 85, 41, 59, 77, 17, 66, 29, 60, 75, 84, 91, 4, 32, 76, 86, 14, 10, 80, 37, 90, 59, 65, 51, 45, 46, 79, 16, 96, 7, 17, 48, 14, 70, 84, 44, 56, 79, 68, 94, 83, 48, 12, 83, 57, 92, 65, 87, 3, 33, 53, 61, 28, 95, 60, 83, 1, 32, 20, 48, 3, 68, 7, 10, 66, 41, 71, 84, 50, 22, 31, 60, 66, 33, 29, 17, 39, 53, 58, 32, 87, 25, 60, 26, 30, 59, 71, 20, 92, 79, 99, 40, 41, 44, 78, 97, 76, 53, 87, 13, 49, 55, 73, 53, 53, 15, 80, 54, 82, 16, 4, 58, 88, 47, 92, 41, 57, 87, 88, 72, 99, 48, 6, 12, 74, 23, 40, 50, 61, 26, 77, 36, 6, 6, 1, 72, 51, 21, 85, 21, 36, 49, 39, 49, 18, 7, 40, 76, 6, 79, 5, 82, 69, 91, 31, 42, 95, 79, 11, 40, 14, 47, 36, 8, 46, 46, 18, 11, 6, 28, 81, 1, 26, 38, 41, 2, 72, 31, 36, 89, 85, 29, 59, 72, 95, 78, 46, 13, 14, 58, 94, 10, 12, 1, 28, 19, 9, 27, 45, 71, 26, 49, 87, 89, 52, 14, 82, 32, 26, 5, 95, 4, 37, 66, 95, 1, 68, 83, 83, 87, 14, 48, 94, 65, 12, 70, 33, 69, 47, 92, 58, 85, 74, 95, 53, 29, 66, 64, 32, 43, 58, 32, 78, 65, 19, 6]\n"
     ]
    }
   ],
   "source": [
    "import random\n",
    "\n",
    "# # GENERATE RANDOM\n",
    "# nilaiTugas = []\n",
    "# for i in range(250):\n",
    "#     nilaiTugas.append(random.randrange(1,100,1))\n",
    "\n",
    "# print(nilaiTugas)\n",
    "\n",
    "# # TAMPILKAN:\n",
    "# # ganjil\n",
    "# # nilai > 70\n",
    "# # standar deviasi\n",
    "# # maksimum\n",
    "# # minimum\n",
    "# # modus\n",
    "print(nilaiTugas)"
   ]
  },
  {
   "cell_type": "markdown",
   "metadata": {},
   "source": [
    "# Nilai Ganjil"
   ]
  },
  {
   "cell_type": "code",
   "execution_count": 103,
   "metadata": {},
   "outputs": [
    {
     "name": "stdout",
     "output_type": "stream",
     "text": [
      "[83, 59, 67, 85, 41, 59, 77, 17, 29, 75, 91, 37, 59, 65, 51, 45, 79, 7, 17, 79, 83, 83, 57, 65, 87, 3, 33, 53, 61, 95, 83, 1, 3, 7, 41, 71, 31, 33, 29, 17, 39, 53, 87, 25, 59, 71, 79, 99, 41, 97, 53, 87, 13, 49, 55, 73, 53, 53, 15, 47, 41, 57, 87, 99, 23, 61, 77, 1, 51, 21, 85, 21, 49, 39, 49, 7, 79, 5, 69, 91, 31, 95, 79, 11, 47, 11, 81, 1, 41, 31, 89, 85, 29, 59, 95, 13, 1, 19, 9, 27, 45, 71, 49, 87, 89, 5, 95, 37, 95, 1, 83, 83, 87, 65, 33, 69, 47, 85, 95, 53, 29, 43, 65, 19]\n"
     ]
    }
   ],
   "source": [
    "nilaiGanjil = []\n",
    "for nilai in nilaiTugas:\n",
    "    ganjil = nilai%2\n",
    "    if ganjil != 0:\n",
    "        nilaiGanjil.append(nilai)\n",
    "print(nilaiGanjil)"
   ]
  },
  {
   "cell_type": "markdown",
   "metadata": {},
   "source": [
    "# Nilai  > 70"
   ]
  },
  {
   "cell_type": "code",
   "execution_count": 104,
   "metadata": {},
   "outputs": [
    {
     "name": "stdout",
     "output_type": "stream",
     "text": [
      "[83, 80, 92, 85, 77, 75, 84, 91, 76, 86, 80, 90, 79, 96, 84, 79, 94, 83, 83, 92, 87, 95, 83, 71, 84, 87, 71, 92, 79, 99, 78, 97, 76, 87, 73, 80, 82, 88, 92, 87, 88, 72, 99, 74, 77, 72, 85, 76, 79, 82, 91, 95, 79, 81, 72, 89, 85, 72, 95, 78, 94, 71, 87, 89, 82, 95, 95, 83, 83, 87, 94, 92, 85, 74, 95, 78]\n"
     ]
    }
   ],
   "source": [
    "nilaiMin71 = []\n",
    "for i in range(0,len(nilaiTugas)):\n",
    "    cekNilai = nilaiTugas[i]\n",
    "    if (cekNilai>70):\n",
    "        nilaiMin71.append(cekNilai)\n",
    "print(nilaiMin71)        "
   ]
  },
  {
   "cell_type": "markdown",
   "metadata": {},
   "source": [
    "# Nilai Max & Min"
   ]
  },
  {
   "cell_type": "code",
   "execution_count": 157,
   "metadata": {},
   "outputs": [
    {
     "data": {
      "text/plain": [
       "99"
      ]
     },
     "execution_count": 157,
     "metadata": {},
     "output_type": "execute_result"
    }
   ],
   "source": [
    "nilaiMax = max(nilaiTugas)\n",
    "nilaiMax"
   ]
  },
  {
   "cell_type": "code",
   "execution_count": 106,
   "metadata": {},
   "outputs": [
    {
     "name": "stdout",
     "output_type": "stream",
     "text": [
      "[False, False, False, False, False, False, False, False, False, False, False, False, False, False, False, False, False, False, False, False, False, False, False, False, False, False, False, False, False, False, False, False, False, False, False, False, False, False, False, False, False, False, False, False, False, False, False, False, False, False, False, False, False, False, False, False, False, False, False, False, False, False, False, False, False, False, False, False, False, False, False, False, False, False, False, False, False, False, False, False, False, False, False, False, False, False, False, False, False, False, False, False, False, False, True, False, False, False, False, False, False, False, False, False, False, False, False, False, False, False, False, False, False, False, False, False, False, False, False, False, False, False, False, False, True, False, False, False, False, False, False, False, False, False, False, False, False, False, False, False, False, False, False, False, False, False, False, False, False, False, False, False, False, False, False, False, False, False, False, False, False, False, False, False, False, False, False, False, False, False, False, False, False, False, False, False, False, False, False, False, False, False, False, False, False, False, False, False, False, False, False, False, False, False, False, False, False, False, False, False, False, False, False, False, False, False, False, False, False, False, False, False, False, False, False, False, False, False, False, False, False, False, False, False, False, False, False, False, False, False, False, False, False, False, False, False, False, False, False, False, False, False, False, False, False, False, False, False, False, False]\n"
     ]
    }
   ],
   "source": [
    "#LIST TRUE FALSE NILMAX\n",
    "nilaiMaximum = []\n",
    "for i in nilaiTugas:\n",
    "    nilai = i==nilaiMax\n",
    "    nilaiMaximum.append(nilai)\n",
    "print(nilaiMaximum)"
   ]
  },
  {
   "cell_type": "code",
   "execution_count": 158,
   "metadata": {},
   "outputs": [
    {
     "data": {
      "text/plain": [
       "1"
      ]
     },
     "execution_count": 158,
     "metadata": {},
     "output_type": "execute_result"
    }
   ],
   "source": [
    "nilaiMin = min(nilaiTugas)\n",
    "nilaiMin"
   ]
  },
  {
   "cell_type": "code",
   "execution_count": 108,
   "metadata": {},
   "outputs": [
    {
     "name": "stdout",
     "output_type": "stream",
     "text": [
      "[False, False, False, False, False, False, False, False, False, False, False, False, False, False, False, False, False, False, False, False, False, False, False, False, False, False, False, False, False, False, False, False, False, False, False, False, False, False, False, False, False, False, False, False, False, False, False, False, False, False, False, False, False, False, False, False, False, False, False, False, True, False, False, False, False, False, False, False, False, False, False, False, False, False, False, False, False, False, False, False, False, False, False, False, False, False, False, False, False, False, False, False, False, False, False, False, False, False, False, False, False, False, False, False, False, False, False, False, False, False, False, False, False, False, False, False, False, False, False, False, False, False, False, False, False, False, False, False, False, False, False, False, False, False, False, False, False, False, True, False, False, False, False, False, False, False, False, False, False, False, False, False, False, False, False, False, False, False, False, False, False, False, False, False, False, False, False, False, False, False, False, False, False, False, False, True, False, False, False, False, False, False, False, False, False, False, False, False, False, False, False, False, False, False, False, False, False, True, False, False, False, False, False, False, False, False, False, False, False, False, False, False, False, False, False, False, False, False, False, True, False, False, False, False, False, False, False, False, False, False, False, False, False, False, False, False, False, False, False, False, False, False, False, False, False, False, False, False, False, False]\n"
     ]
    }
   ],
   "source": [
    "#LIST TRUE FALSE NILMIN\n",
    "nilaiMinimum = []\n",
    "for i in nilaiTugas:\n",
    "    nilai = i==nilaiMin\n",
    "    nilaiMinimum.append(nilai)\n",
    "print(nilaiMinimum)"
   ]
  },
  {
   "cell_type": "markdown",
   "metadata": {},
   "source": [
    "# Modus"
   ]
  },
  {
   "cell_type": "code",
   "execution_count": 109,
   "metadata": {},
   "outputs": [
    {
     "ename": "StatisticsError",
     "evalue": "no unique mode; found 7 equally common values",
     "output_type": "error",
     "traceback": [
      "\u001b[1;31m---------------------------------------------------------------------------\u001b[0m",
      "\u001b[1;31mStatisticsError\u001b[0m                           Traceback (most recent call last)",
      "\u001b[1;32m<ipython-input-109-bdab8db7e089>\u001b[0m in \u001b[0;36m<module>\u001b[1;34m()\u001b[0m\n\u001b[0;32m      1\u001b[0m \u001b[1;32mfrom\u001b[0m \u001b[0mstatistics\u001b[0m \u001b[1;32mimport\u001b[0m \u001b[0mmode\u001b[0m\u001b[1;33m\u001b[0m\u001b[0m\n\u001b[1;32m----> 2\u001b[1;33m \u001b[0mmode\u001b[0m\u001b[1;33m(\u001b[0m\u001b[0mnilaiTugas\u001b[0m\u001b[1;33m)\u001b[0m\u001b[1;33m\u001b[0m\u001b[0m\n\u001b[0m",
      "\u001b[1;32mC:\\Anaconda3\\lib\\statistics.py\u001b[0m in \u001b[0;36mmode\u001b[1;34m(data)\u001b[0m\n\u001b[0;32m    504\u001b[0m     \u001b[1;32melif\u001b[0m \u001b[0mtable\u001b[0m\u001b[1;33m:\u001b[0m\u001b[1;33m\u001b[0m\u001b[0m\n\u001b[0;32m    505\u001b[0m         raise StatisticsError(\n\u001b[1;32m--> 506\u001b[1;33m                 \u001b[1;34m'no unique mode; found %d equally common values'\u001b[0m \u001b[1;33m%\u001b[0m \u001b[0mlen\u001b[0m\u001b[1;33m(\u001b[0m\u001b[0mtable\u001b[0m\u001b[1;33m)\u001b[0m\u001b[1;33m\u001b[0m\u001b[0m\n\u001b[0m\u001b[0;32m    507\u001b[0m                 )\n\u001b[0;32m    508\u001b[0m     \u001b[1;32melse\u001b[0m\u001b[1;33m:\u001b[0m\u001b[1;33m\u001b[0m\u001b[0m\n",
      "\u001b[1;31mStatisticsError\u001b[0m: no unique mode; found 7 equally common values"
     ]
    }
   ],
   "source": [
    "from statistics import mode\n",
    "mode(nilaiTugas)"
   ]
  },
  {
   "cell_type": "markdown",
   "metadata": {},
   "source": [
    "#### error karna ada 7 nilai"
   ]
  },
  {
   "cell_type": "code",
   "execution_count": 160,
   "metadata": {},
   "outputs": [],
   "source": [
    "nilaiTugas100 = [i*100 for i in nilaiTugas]"
   ]
  },
  {
   "cell_type": "code",
   "execution_count": 161,
   "metadata": {},
   "outputs": [
    {
     "name": "stdout",
     "output_type": "stream",
     "text": [
      "Counter({8300: 6, 3200: 6, 1400: 6, 8700: 6, 5300: 6, 9500: 6, 600: 6, 9200: 5, 5900: 5, 4100: 5, 6600: 5, 7900: 5, 4800: 5, 100: 5, 5800: 5, 2600: 5, 8500: 4, 2900: 4, 6000: 4, 6500: 4, 4600: 4, 1200: 4, 4000: 4, 4900: 4, 7200: 4, 3600: 4, 8000: 3, 1700: 3, 8400: 3, 400: 3, 7600: 3, 1000: 3, 700: 3, 6800: 3, 9400: 3, 3300: 3, 2800: 3, 7100: 3, 3100: 3, 7800: 3, 8200: 3, 4700: 3, 7700: 2, 9100: 2, 3700: 2, 5100: 2, 4500: 2, 1600: 2, 7000: 2, 4400: 2, 5700: 2, 300: 2, 6100: 2, 2000: 2, 5000: 2, 3900: 2, 9900: 2, 1300: 2, 8800: 2, 7400: 2, 2100: 2, 1800: 2, 500: 2, 6900: 2, 1100: 2, 8900: 2, 1900: 2, 6700: 1, 7500: 1, 8600: 1, 9000: 1, 9600: 1, 5600: 1, 2200: 1, 2500: 1, 3000: 1, 9700: 1, 5500: 1, 7300: 1, 1500: 1, 5400: 1, 2300: 1, 4200: 1, 800: 1, 8100: 1, 3800: 1, 200: 1, 900: 1, 2700: 1, 5200: 1, 6400: 1, 4300: 1})\n"
     ]
    }
   ],
   "source": [
    "from collections import Counter\n",
    "counting = Counter(nilaiTugas100)\n",
    "print(counting)"
   ]
  },
  {
   "cell_type": "markdown",
   "metadata": {},
   "source": [
    "setelah dilakukan perkalian dg 100, lebih terlihat jelas antara nilai dengan jumlah kemunculan"
   ]
  },
  {
   "cell_type": "code",
   "execution_count": 155,
   "metadata": {},
   "outputs": [
    {
     "name": "stdout",
     "output_type": "stream",
     "text": [
      "terdapat 7 Nilai Modus dg jumlah kemunculan yg sama yaitu, 6 kali : [83, 32, 14, 87, 53, 95, 6]\n"
     ]
    }
   ],
   "source": [
    "NILAImodus =[]\n",
    "frequencyMode=0\n",
    "\n",
    "#menentukan 1 NilaiModus(k)\n",
    "for k in counting.keys():\n",
    "    frequency = counting[k]\n",
    "    if (frequency>frequencyMode):\n",
    "        frequencyMode=frequency\n",
    "        NilaiModus=k\n",
    "        \n",
    "\n",
    "#melakukan pengecekan apakah ada nilai dg jumlah kemunculan yg sama dg NilaiModus(k)\n",
    "#kasus = ada 7 nilai dg frek sama besar\n",
    "for h in counting.keys():\n",
    "    cekFreq = counting[h]\n",
    "    if frequencyMode == cekFreq:\n",
    "        NILAImodus.append(h)\n",
    "\n",
    "nilaiModus = [int(i/100) for i in NILAImodus]\n",
    "jmlNilai = len(nilaiModus)\n",
    "jmlFreq = frequencyMode\n",
    "if (jmlNilai>1):\n",
    "    print('terdapat', jmlNilai,'Nilai Modus dg jumlah kemunculan yg sama yaitu,', jmlFreq,'kali :',nilaiModus)\n",
    "else:\n",
    "    print('Nilai Modus dg kemunculan', jmlFreq, 'kali:', nilaiModus)"
   ]
  },
  {
   "cell_type": "markdown",
   "metadata": {},
   "source": [
    "# Standar Deviasi"
   ]
  },
  {
   "cell_type": "code",
   "execution_count": 164,
   "metadata": {},
   "outputs": [
    {
     "data": {
      "text/plain": [
       "28.58"
      ]
     },
     "execution_count": 164,
     "metadata": {},
     "output_type": "execute_result"
    }
   ],
   "source": [
    "#menggunakan package\n",
    "import statistics\n",
    "from statistics import pstdev\n",
    "round(pstdev(nilaiTugas),2)"
   ]
  },
  {
   "cell_type": "code",
   "execution_count": 167,
   "metadata": {},
   "outputs": [
    {
     "data": {
      "text/plain": [
       "28.58"
      ]
     },
     "execution_count": 167,
     "metadata": {},
     "output_type": "execute_result"
    }
   ],
   "source": [
    "#tanpa package\n",
    "averageNilaiTugas = sum(nilaiTugas)/len(nilaiTugas)\n",
    "sdb =[]\n",
    "\n",
    "for i in nilaiTugas:\n",
    "    sdb.append((i-averageNilaiTugas)**2)\n",
    "sd = sum(sdb)/len(nilaiTugas)\n",
    "\n",
    "import math\n",
    "round(math.sqrt(sd),2)"
   ]
  },
  {
   "cell_type": "markdown",
   "metadata": {},
   "source": [
    "# # TUGAS 3 - WORD COUNT"
   ]
  },
  {
   "cell_type": "code",
   "execution_count": 174,
   "metadata": {},
   "outputs": [
    {
     "name": "stdout",
     "output_type": "stream",
     "text": [
      "Barcelona berhasil merebut posisi puncak klasemen La Liga Spanyol seusai menang 4-2 atas Sevilla pada pertandingan pekan kesembilan di Stadion Camp Nou, Sabtu (20/10/2018) atau Minggu dini hari WIB. Barcelona membuka keunggulan pada menit ke-2 melalui gol yang dicetak oleh Philippe Coutinho. Lionel Messi menggandakan keunggulan Barcelona, 10 menit berselang.  Namun, nahas bagi Barcelona, karena Messi harus ditarik keluar pada menit ke-26 setelah mengalami cedera. Tanpa Messi, skor 2-0 bertahan hingga babak pertama berakhir.\n"
     ]
    }
   ],
   "source": [
    "paragraf = \"Barcelona berhasil merebut posisi puncak klasemen La Liga Spanyol seusai menang 4-2 atas Sevilla pada pertandingan pekan kesembilan di Stadion Camp Nou, Sabtu (20/10/2018) atau Minggu dini hari WIB. Barcelona membuka keunggulan pada menit ke-2 melalui gol yang dicetak oleh Philippe Coutinho. Lionel Messi menggandakan keunggulan Barcelona, 10 menit berselang.  Namun, nahas bagi Barcelona, karena Messi harus ditarik keluar pada menit ke-26 setelah mengalami cedera. Tanpa Messi, skor 2-0 bertahan hingga babak pertama berakhir.\"\n",
    "print(paragraf)"
   ]
  },
  {
   "cell_type": "code",
   "execution_count": 188,
   "metadata": {},
   "outputs": [
    {
     "name": "stdout",
     "output_type": "stream",
     "text": [
      "Barcelona berhasil merebut posisi puncak klasemen La Liga Spanyol seusai menang  atas Sevilla pada pertandingan pekan kesembilan di Stadion Camp Nou  Sabtu  atau Minggu dini hari WIB  Barcelona membuka keunggulan pada menit ke melalui gol yang dicetak oleh Philippe Coutinho  Lionel Messi menggandakan keunggulan Barcelona   menit berselang   Namun  nahas bagi Barcelona  karena Messi harus ditarik keluar pada menit ke setelah mengalami cedera  Tanpa Messi  skor  bertahan hingga babak pertama berakhir \n"
     ]
    }
   ],
   "source": [
    "paragraf = paragraf.replace('.', ' ')\n",
    "paragraf = paragraf.replace(',', ' ')\n",
    "paragraf = paragraf.replace('/', '')\n",
    "paragraf = paragraf.replace('(', '')\n",
    "paragraf = paragraf.replace(')', '')\n",
    "paragraf = paragraf.replace('-', '')\n",
    "paragraf = paragraf.replace('1', '')\n",
    "paragraf = paragraf.replace('2', '')\n",
    "paragraf = paragraf.replace('4', '')\n",
    "paragraf = paragraf.replace('6', '')\n",
    "paragraf = paragraf.replace('8', '')\n",
    "paragraf = paragraf.replace('0', '')\n",
    "print(paragraf)"
   ]
  },
  {
   "cell_type": "code",
   "execution_count": 189,
   "metadata": {},
   "outputs": [],
   "source": [
    "paragrafList = paragraf.split()"
   ]
  },
  {
   "cell_type": "code",
   "execution_count": 190,
   "metadata": {},
   "outputs": [
    {
     "name": "stdout",
     "output_type": "stream",
     "text": [
      "Counter({'Barcelona': 4, 'pada': 3, 'menit': 3, 'Messi': 3, 'keunggulan': 2, 'ke': 2, 'berhasil': 1, 'merebut': 1, 'posisi': 1, 'puncak': 1, 'klasemen': 1, 'La': 1, 'Liga': 1, 'Spanyol': 1, 'seusai': 1, 'menang': 1, 'atas': 1, 'Sevilla': 1, 'pertandingan': 1, 'pekan': 1, 'kesembilan': 1, 'di': 1, 'Stadion': 1, 'Camp': 1, 'Nou': 1, 'Sabtu': 1, 'atau': 1, 'Minggu': 1, 'dini': 1, 'hari': 1, 'WIB': 1, 'membuka': 1, 'melalui': 1, 'gol': 1, 'yang': 1, 'dicetak': 1, 'oleh': 1, 'Philippe': 1, 'Coutinho': 1, 'Lionel': 1, 'menggandakan': 1, 'berselang': 1, 'Namun': 1, 'nahas': 1, 'bagi': 1, 'karena': 1, 'harus': 1, 'ditarik': 1, 'keluar': 1, 'setelah': 1, 'mengalami': 1, 'cedera': 1, 'Tanpa': 1, 'skor': 1, 'bertahan': 1, 'hingga': 1, 'babak': 1, 'pertama': 1, 'berakhir': 1})\n"
     ]
    }
   ],
   "source": [
    "from collections import Counter\n",
    "\n",
    "countingWord = Counter(paragrafList)\n",
    "print(countingWord)"
   ]
  },
  {
   "cell_type": "code",
   "execution_count": 191,
   "metadata": {},
   "outputs": [
    {
     "name": "stdout",
     "output_type": "stream",
     "text": [
      "Barcelona : 4\n",
      "berhasil : 1\n",
      "merebut : 1\n",
      "posisi : 1\n",
      "puncak : 1\n",
      "klasemen : 1\n",
      "La : 1\n",
      "Liga : 1\n",
      "Spanyol : 1\n",
      "seusai : 1\n",
      "menang : 1\n",
      "atas : 1\n",
      "Sevilla : 1\n",
      "pada : 3\n",
      "pertandingan : 1\n",
      "pekan : 1\n",
      "kesembilan : 1\n",
      "di : 1\n",
      "Stadion : 1\n",
      "Camp : 1\n",
      "Nou : 1\n",
      "Sabtu : 1\n",
      "atau : 1\n",
      "Minggu : 1\n",
      "dini : 1\n",
      "hari : 1\n",
      "WIB : 1\n",
      "membuka : 1\n",
      "keunggulan : 2\n",
      "menit : 3\n",
      "ke : 2\n",
      "melalui : 1\n",
      "gol : 1\n",
      "yang : 1\n",
      "dicetak : 1\n",
      "oleh : 1\n",
      "Philippe : 1\n",
      "Coutinho : 1\n",
      "Lionel : 1\n",
      "Messi : 3\n",
      "menggandakan : 1\n",
      "berselang : 1\n",
      "Namun : 1\n",
      "nahas : 1\n",
      "bagi : 1\n",
      "karena : 1\n",
      "harus : 1\n",
      "ditarik : 1\n",
      "keluar : 1\n",
      "setelah : 1\n",
      "mengalami : 1\n",
      "cedera : 1\n",
      "Tanpa : 1\n",
      "skor : 1\n",
      "bertahan : 1\n",
      "hingga : 1\n",
      "babak : 1\n",
      "pertama : 1\n",
      "berakhir : 1\n"
     ]
    }
   ],
   "source": [
    "for k,v in countingWord.items():\n",
    "    print(k,':',v)"
   ]
  },
  {
   "cell_type": "code",
   "execution_count": null,
   "metadata": {},
   "outputs": [],
   "source": []
  }
 ],
 "metadata": {
  "kernelspec": {
   "display_name": "Python 3",
   "language": "python",
   "name": "python3"
  },
  "language_info": {
   "codemirror_mode": {
    "name": "ipython",
    "version": 3
   },
   "file_extension": ".py",
   "mimetype": "text/x-python",
   "name": "python",
   "nbconvert_exporter": "python",
   "pygments_lexer": "ipython3",
   "version": "3.7.0"
  }
 },
 "nbformat": 4,
 "nbformat_minor": 2
}
