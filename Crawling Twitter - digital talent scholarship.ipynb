{
 "cells": [
  {
   "cell_type": "code",
   "execution_count": 140,
   "metadata": {},
   "outputs": [],
   "source": [
    "from twython import Twython\n",
    "import json"
   ]
  },
  {
   "cell_type": "code",
   "execution_count": 141,
   "metadata": {},
   "outputs": [],
   "source": [
    "TWITTER_APP_KEY = '*************************'\n",
    "TWITTER_APP_KEY_SECRET = '*************************' \n",
    "TWITTER_ACCESS_TOKEN = '*************************'\n",
    "TWITTER_ACCESS_TOKEN_SECRET = '*************************'\n",
    "\n",
    "t = Twython(app_key=TWITTER_APP_KEY, \n",
    "            app_secret=TWITTER_APP_KEY_SECRET, \n",
    "            oauth_token=TWITTER_ACCESS_TOKEN, \n",
    "            oauth_token_secret=TWITTER_ACCESS_TOKEN_SECRET)"
   ]
  },
  {
   "cell_type": "markdown",
   "metadata": {},
   "source": [
    "# Melakukan searching dengan Twitter API"
   ]
  },
  {
   "cell_type": "code",
   "execution_count": 142,
   "metadata": {},
   "outputs": [],
   "source": [
    "term = 'digital talent Scholarship'\n",
    "tweet_metadatas = t.search(q=term,count=100,result_type='recent')"
   ]
  },
  {
   "cell_type": "code",
   "execution_count": 143,
   "metadata": {},
   "outputs": [
    {
     "name": "stdout",
     "output_type": "stream",
     "text": [
      "{'created_at': 'Wed Oct 24 10:00:56 +0000 2018', 'id': 1055036408455462913, 'id_str': '1055036408455462913', 'text': 'Kemenkominfo saat ini sedang membuat sebuah program pelatihan bersertifikat Digital Talent Scholarship yang ditujuk… https://t.co/uTUFwTgI49', 'truncated': True, 'entities': {'hashtags': [], 'symbols': [], 'user_mentions': [], 'urls': [{'url': 'https://t.co/uTUFwTgI49', 'expanded_url': 'https://twitter.com/i/web/status/1055036408455462913', 'display_url': 'twitter.com/i/web/status/1…', 'indices': [117, 140]}]}, 'metadata': {'iso_language_code': 'in', 'result_type': 'recent'}, 'source': '<a href=\"https://www.hootsuite.com\" rel=\"nofollow\">Hootsuite Inc.</a>', 'in_reply_to_status_id': None, 'in_reply_to_status_id_str': None, 'in_reply_to_user_id': None, 'in_reply_to_user_id_str': None, 'in_reply_to_screen_name': None, 'user': {'id': 79957943, 'id_str': '79957943', 'name': 'marketeers.com', 'screen_name': 'the_marketeers', 'location': '', 'description': \"Indonesia's #1 Marketing Media & MICE. Check out our Magazine, https://t.co/BzeMEOh8FN,   https://t.co/4lgPv9Uq93 Marketeers TV di https://t.co/g9v3RQDdFw\", 'url': 'https://t.co/XLTvQnuSV1', 'entities': {'url': {'urls': [{'url': 'https://t.co/XLTvQnuSV1', 'expanded_url': 'http://www.marketeers.com', 'display_url': 'marketeers.com', 'indices': [0, 23]}]}, 'description': {'urls': [{'url': 'https://t.co/BzeMEOh8FN', 'expanded_url': 'http://marketeers.com', 'display_url': 'marketeers.com', 'indices': [63, 86]}, {'url': 'https://t.co/4lgPv9Uq93', 'expanded_url': 'http://instagram.com/marketeers', 'display_url': 'instagram.com/marketeers', 'indices': [90, 113]}, {'url': 'https://t.co/g9v3RQDdFw', 'expanded_url': 'http://youtube.com/marketeers', 'display_url': 'youtube.com/marketeers', 'indices': [131, 154]}]}}, 'protected': False, 'followers_count': 469600, 'friends_count': 645, 'listed_count': 729, 'created_at': 'Mon Oct 05 07:49:50 +0000 2009', 'favourites_count': 240, 'utc_offset': None, 'time_zone': None, 'geo_enabled': True, 'verified': False, 'statuses_count': 253142, 'lang': 'en', 'contributors_enabled': False, 'is_translator': False, 'is_translation_enabled': False, 'profile_background_color': '3B94D9', 'profile_background_image_url': 'http://abs.twimg.com/images/themes/theme1/bg.png', 'profile_background_image_url_https': 'https://abs.twimg.com/images/themes/theme1/bg.png', 'profile_background_tile': False, 'profile_image_url': 'http://pbs.twimg.com/profile_images/1022681253156290560/04TQvSSi_normal.jpg', 'profile_image_url_https': 'https://pbs.twimg.com/profile_images/1022681253156290560/04TQvSSi_normal.jpg', 'profile_banner_url': 'https://pbs.twimg.com/profile_banners/79957943/1523862646', 'profile_link_color': '89C9FA', 'profile_sidebar_border_color': 'C0DEED', 'profile_sidebar_fill_color': 'DDEEF6', 'profile_text_color': '333333', 'profile_use_background_image': True, 'has_extended_profile': False, 'default_profile': False, 'default_profile_image': False, 'following': False, 'follow_request_sent': False, 'notifications': False, 'translator_type': 'none'}, 'geo': None, 'coordinates': None, 'place': None, 'contributors': None, 'is_quote_status': False, 'retweet_count': 0, 'favorite_count': 0, 'favorited': False, 'retweeted': False, 'possibly_sensitive': False, 'lang': 'in'}\n"
     ]
    }
   ],
   "source": [
    "print(tweet_metadatas['statuses'][0])"
   ]
  },
  {
   "cell_type": "markdown",
   "metadata": {},
   "source": [
    "### Mengambil isi tweet"
   ]
  },
  {
   "cell_type": "code",
   "execution_count": 144,
   "metadata": {},
   "outputs": [
    {
     "name": "stdout",
     "output_type": "stream",
     "text": [
      "Kemenkominfo saat ini sedang membuat sebuah program pelatihan bersertifikat Digital Talent Scholarship yang ditujuk… https://t.co/uTUFwTgI49\n"
     ]
    }
   ],
   "source": [
    "print(tweet_metadatas['statuses'][0]['text'])"
   ]
  },
  {
   "cell_type": "markdown",
   "metadata": {},
   "source": [
    "### Mengambil username dari yang ngetweet"
   ]
  },
  {
   "cell_type": "code",
   "execution_count": 145,
   "metadata": {},
   "outputs": [
    {
     "name": "stdout",
     "output_type": "stream",
     "text": [
      "the_marketeers\n"
     ]
    }
   ],
   "source": [
    "print(tweet_metadatas['statuses'][0]['user']['screen_name'])"
   ]
  },
  {
   "cell_type": "markdown",
   "metadata": {},
   "source": [
    "### Mendapatkan jumlah following dan follower"
   ]
  },
  {
   "cell_type": "code",
   "execution_count": 146,
   "metadata": {},
   "outputs": [
    {
     "name": "stdout",
     "output_type": "stream",
     "text": [
      "645 469600\n"
     ]
    }
   ],
   "source": [
    "print(tweet_metadatas['statuses'][0]['user']['friends_count'],tweet_metadatas['statuses'][0]['user']['followers_count'],)"
   ]
  },
  {
   "cell_type": "markdown",
   "metadata": {},
   "source": [
    "# Menyimpan data pada Tabel\n",
    "Data yang akan disimpan adalah tweet dan siapa yg melakukan tweet"
   ]
  },
  {
   "cell_type": "markdown",
   "metadata": {},
   "source": [
    "### Memasukkan data yang digunakan ke dalam list of dictionary"
   ]
  },
  {
   "cell_type": "code",
   "execution_count": 147,
   "metadata": {},
   "outputs": [],
   "source": [
    "data_list = []\n",
    "\n",
    "for tweet in tweet_metadatas['statuses']:\n",
    "    meta = dict()\n",
    "    meta['tweet'] = tweet['text']\n",
    "    meta['timestamp'] = tweet['created_at']\n",
    "    meta['username'] = tweet['user']['screen_name']\n",
    "    \n",
    "    data_list.append(meta)"
   ]
  },
  {
   "cell_type": "markdown",
   "metadata": {},
   "source": [
    "### Membuat tabel untuk menyimpan data"
   ]
  },
  {
   "cell_type": "code",
   "execution_count": 148,
   "metadata": {},
   "outputs": [
    {
     "data": {
      "text/html": [
       "<div>\n",
       "<style scoped>\n",
       "    .dataframe tbody tr th:only-of-type {\n",
       "        vertical-align: middle;\n",
       "    }\n",
       "\n",
       "    .dataframe tbody tr th {\n",
       "        vertical-align: top;\n",
       "    }\n",
       "\n",
       "    .dataframe thead th {\n",
       "        text-align: right;\n",
       "    }\n",
       "</style>\n",
       "<table border=\"1\" class=\"dataframe\">\n",
       "  <thead>\n",
       "    <tr style=\"text-align: right;\">\n",
       "      <th></th>\n",
       "      <th>timestamp</th>\n",
       "      <th>tweet</th>\n",
       "      <th>username</th>\n",
       "    </tr>\n",
       "  </thead>\n",
       "  <tbody>\n",
       "    <tr>\n",
       "      <th>0</th>\n",
       "      <td>Wed Oct 24 10:00:56 +0000 2018</td>\n",
       "      <td>Kemenkominfo saat ini sedang membuat sebuah pr...</td>\n",
       "      <td>the_marketeers</td>\n",
       "    </tr>\n",
       "    <tr>\n",
       "      <th>1</th>\n",
       "      <td>Tue Oct 23 12:35:48 +0000 2018</td>\n",
       "      <td>#BrixtonFinishingSchool talent!! Congratulatio...</td>\n",
       "      <td>BrixtonFSchool</td>\n",
       "    </tr>\n",
       "    <tr>\n",
       "      <th>2</th>\n",
       "      <td>Tue Oct 23 09:30:46 +0000 2018</td>\n",
       "      <td>#kom1 Menkominfo, Rudiantara: Program Priorita...</td>\n",
       "      <td>WikiDPR1</td>\n",
       "    </tr>\n",
       "    <tr>\n",
       "      <th>3</th>\n",
       "      <td>Tue Oct 23 09:13:18 +0000 2018</td>\n",
       "      <td>@WikiDPR #kom1 Menkominfo, Rudiantara: Program...</td>\n",
       "      <td>ahmad_rifkyyy</td>\n",
       "    </tr>\n",
       "    <tr>\n",
       "      <th>4</th>\n",
       "      <td>Mon Oct 22 06:00:00 +0000 2018</td>\n",
       "      <td>Kementerian Komunikasi dan Informatika (Kemenk...</td>\n",
       "      <td>IDVADS</td>\n",
       "    </tr>\n",
       "  </tbody>\n",
       "</table>\n",
       "</div>"
      ],
      "text/plain": [
       "                        timestamp  \\\n",
       "0  Wed Oct 24 10:00:56 +0000 2018   \n",
       "1  Tue Oct 23 12:35:48 +0000 2018   \n",
       "2  Tue Oct 23 09:30:46 +0000 2018   \n",
       "3  Tue Oct 23 09:13:18 +0000 2018   \n",
       "4  Mon Oct 22 06:00:00 +0000 2018   \n",
       "\n",
       "                                               tweet        username  \n",
       "0  Kemenkominfo saat ini sedang membuat sebuah pr...  the_marketeers  \n",
       "1  #BrixtonFinishingSchool talent!! Congratulatio...  BrixtonFSchool  \n",
       "2  #kom1 Menkominfo, Rudiantara: Program Priorita...        WikiDPR1  \n",
       "3  @WikiDPR #kom1 Menkominfo, Rudiantara: Program...   ahmad_rifkyyy  \n",
       "4  Kementerian Komunikasi dan Informatika (Kemenk...          IDVADS  "
      ]
     },
     "execution_count": 148,
     "metadata": {},
     "output_type": "execute_result"
    }
   ],
   "source": [
    "import pandas as pd\n",
    "data = pd.DataFrame(data_list)\n",
    "data.head()"
   ]
  },
  {
   "cell_type": "markdown",
   "metadata": {},
   "source": [
    "### Menyimpan ke dalam XLSX"
   ]
  },
  {
   "cell_type": "code",
   "execution_count": 149,
   "metadata": {},
   "outputs": [],
   "source": [
    "writer = pd.ExcelWriter('digitalent.xlsx')\n",
    "data.to_excel(writer,'Sheet1',index=False)\n",
    "writer.save()"
   ]
  },
  {
   "cell_type": "markdown",
   "metadata": {},
   "source": [
    "### Menyimpan ke CSV"
   ]
  },
  {
   "cell_type": "code",
   "execution_count": 150,
   "metadata": {},
   "outputs": [],
   "source": [
    "data.to_csv('digitalent.csv',index=False)"
   ]
  }
 ],
 "metadata": {
  "kernelspec": {
   "display_name": "Python 3",
   "language": "python",
   "name": "python3"
  },
  "language_info": {
   "codemirror_mode": {
    "name": "ipython",
    "version": 3
   },
   "file_extension": ".py",
   "mimetype": "text/x-python",
   "name": "python",
   "nbconvert_exporter": "python",
   "pygments_lexer": "ipython3",
   "version": "3.7.0"
  }
 },
 "nbformat": 4,
 "nbformat_minor": 2
}
