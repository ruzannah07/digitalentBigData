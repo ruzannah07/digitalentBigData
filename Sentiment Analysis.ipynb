{
 "cells": [
  {
   "cell_type": "code",
   "execution_count": 1,
   "metadata": {},
   "outputs": [],
   "source": [
    "from textblob import TextBlob\n",
    "import sys\n",
    "import tweepy"
   ]
  },
  {
   "cell_type": "code",
   "execution_count": 4,
   "metadata": {},
   "outputs": [
    {
     "ename": "NameError",
     "evalue": "name 'tweepy' is not defined",
     "output_type": "error",
     "traceback": [
      "\u001b[1;31m---------------------------------------------------------------------------\u001b[0m",
      "\u001b[1;31mNameError\u001b[0m                                 Traceback (most recent call last)",
      "\u001b[1;32m<ipython-input-4-fcdb82d8e35f>\u001b[0m in \u001b[0;36m<module>\u001b[1;34m()\u001b[0m\n\u001b[0;32m      7\u001b[0m \u001b[0maccessTokenSecrete\u001b[0m \u001b[1;33m=\u001b[0m \u001b[1;34m'AqcfDXJbA4BpDNgYNr3QN5HLdk2uNW4TTllIlXAjT8OIn'\u001b[0m\u001b[1;33m\u001b[0m\u001b[0m\n\u001b[0;32m      8\u001b[0m \u001b[1;33m\u001b[0m\u001b[0m\n\u001b[1;32m----> 9\u001b[1;33m \u001b[0mauth\u001b[0m \u001b[1;33m=\u001b[0m \u001b[0mtweepy\u001b[0m\u001b[1;33m.\u001b[0m\u001b[0mOAuthHandler\u001b[0m\u001b[1;33m(\u001b[0m\u001b[0mconsumer_key\u001b[0m\u001b[1;33m=\u001b[0m\u001b[0mconsumerKey\u001b[0m\u001b[1;33m,\u001b[0m \u001b[0mconsumer_secret\u001b[0m\u001b[1;33m=\u001b[0m\u001b[0mconsumerSecret\u001b[0m\u001b[1;33m)\u001b[0m\u001b[1;33m\u001b[0m\u001b[0m\n\u001b[0m\u001b[0;32m     10\u001b[0m \u001b[0mauth\u001b[0m\u001b[1;33m.\u001b[0m\u001b[0mset_access_token\u001b[0m\u001b[1;33m(\u001b[0m\u001b[0maccessToken\u001b[0m\u001b[1;33m,\u001b[0m \u001b[0maccessTokenSecret\u001b[0m\u001b[1;33m)\u001b[0m\u001b[1;33m\u001b[0m\u001b[0m\n\u001b[0;32m     11\u001b[0m \u001b[0mapi\u001b[0m \u001b[1;33m=\u001b[0m \u001b[0mtweepy\u001b[0m\u001b[1;33m.\u001b[0m\u001b[0mAPI\u001b[0m\u001b[1;33m(\u001b[0m\u001b[0mauth\u001b[0m\u001b[1;33m)\u001b[0m\u001b[1;33m\u001b[0m\u001b[0m\n",
      "\u001b[1;31mNameError\u001b[0m: name 'tweepy' is not defined"
     ]
    }
   ],
   "source": [
    "def percentage(part, whole):\n",
    "    return 100*float(part)/float(whole)\n",
    "\n",
    "consumerKey = 'str08ig2yBywijSGXfYlsPWeH'\n",
    "consumerSecret = 'RkULc6UFmP7bPIwcEcZAgF0mYhYaFOVH12IPCUeQfiSWpNAZba' \n",
    "accessToken = '2951278513-PCPlKMvZBKPNEL8IklhZJYzuPdRpIeHR0Tl7yQc'\n",
    "accessTokenSecrete = 'AqcfDXJbA4BpDNgYNr3QN5HLdk2uNW4TTllIlXAjT8OIn'\n",
    "\n",
    "auth = tweepy.OAuthHandler(consumer_key=consumerKey, consumer_secret=consumerSecret)\n",
    "auth.set_access_token(accessToken, accessTokenSecret)\n",
    "api = tweepy.API(auth)\n",
    "\n",
    "searchTerm = input(\"Enter keyword to search about:\")\n",
    "noOfSearchTerms = int(input(\"Enter how many tweets to analyze:\"))\n",
    "\n",
    "tweets = tweepy.Cursor(api.search, q=searchTerm, lang=\"English\").items(noOfSearchTerms)\n",
    "\n",
    "positive = 0\n",
    "negative = 0\n",
    "neutral = 0\n",
    "polarity = 0\n",
    "\n",
    "for tweet in tweets:\n",
    "    print(tweet.text)\n",
    "    analysis = TextBlob(tweet.text)\n",
    "    polarity += analysis.sentiment.polarity\n",
    "    \n",
    "    if(analysis.sentiment.polarity==0):\n",
    "        neutral += 1\n",
    "    elif(analysis.sentiment.polarity<0.00):\n",
    "        negative +=1\n",
    "    elif(analysis.sentiment.polarity>0.00):\n",
    "        positive +=1\n",
    "        \n",
    "positive = percentage(positive,noOfSearchTerm)\n",
    "negative = percentage(negative,noOfSearchTerm)\n",
    "neutral = percentage(neutral,noOfSearchTerm)\n",
    "\n",
    "positive = format(positive,'.2f')\n",
    "neutral = format(neutral,'.2f')\n",
    "negative = format(negative,'.2f')\n",
    "\n",
    "print(\"How people are reacting on\" + searchTerm + \"by analyzing\" + str(noOfSearchTerms) +\"Tweets\")\n",
    "\n",
    "if(polarity == 0):\n",
    "    print(\"Neutral\")\n",
    "elif(polarity <0):\n",
    "    print(\"Negative\")\n",
    "elif(polarity>0):\n",
    "    print(\"Positive\")\n",
    "    \n",
    "labels = ['Positive['+str(positive)+'%]','Neutral['+str(neutral) +'%]','Negative['+ str(negative)+'%]']\n",
    "sizes = [positive, neutral, negative]\n",
    "colors=['yellowgreen','gold','red']\n",
    "patches, texts = plt.pie(sizes,colors=colors, startangle=90)\n",
    "plt.legend(patches,labels,loc=\"best\")\n",
    "plt.title(\"How people are reacting on\" + searchTerm + 'by Analyzing' + str(noOfSearchTerms)+'Tweets.')\n",
    "plt.axis('equal')\n",
    "plt.tight_layout()\n",
    "plt.show()"
   ]
  },
  {
   "cell_type": "code",
   "execution_count": null,
   "metadata": {},
   "outputs": [],
   "source": []
  }
 ],
 "metadata": {
  "kernelspec": {
   "display_name": "Python 3",
   "language": "python",
   "name": "python3"
  },
  "language_info": {
   "codemirror_mode": {
    "name": "ipython",
    "version": 3
   },
   "file_extension": ".py",
   "mimetype": "text/x-python",
   "name": "python",
   "nbconvert_exporter": "python",
   "pygments_lexer": "ipython3",
   "version": "3.7.0"
  }
 },
 "nbformat": 4,
 "nbformat_minor": 2
}
